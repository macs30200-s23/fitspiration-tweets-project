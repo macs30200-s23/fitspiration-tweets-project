{
 "cells": [
  {
   "cell_type": "code",
   "execution_count": 82,
   "metadata": {},
   "outputs": [],
   "source": [
    "import os\n",
    "import pandas as pd\n",
    "import warnings\n",
    "warnings.filterwarnings('ignore')\n",
    "\n",
    "from nltk.sentiment.vader import SentimentIntensityAnalyzer\n",
    "\n",
    "import seaborn as sns\n",
    "import matplotlib.pyplot as plt\n",
    "\n",
    "import statsmodels.stats.multicomp as mc\n",
    "from scipy.stats import f_oneway\n",
    "import statsmodels.api as sm\n",
    "import numpy as np\n"
   ]
  },
  {
   "cell_type": "code",
   "execution_count": 2,
   "metadata": {},
   "outputs": [
    {
     "name": "stdout",
     "output_type": "stream",
     "text": [
      "/Users/jiayan/Downloads/codes_macs_2022-2023/macs30200/replication-materials-jiayanli/data\n"
     ]
    }
   ],
   "source": [
    "# Get the current working directory path\n",
    "cwd = os.getcwd()\n",
    "\n",
    "# Get the path to the data directory\n",
    "data_path = os.path.dirname(os.path.abspath(cwd)) + \"/data\"\n",
    "print(data_path)"
   ]
  },
  {
   "cell_type": "code",
   "execution_count": 3,
   "metadata": {},
   "outputs": [
    {
     "data": {
      "text/html": [
       "<div>\n",
       "<style scoped>\n",
       "    .dataframe tbody tr th:only-of-type {\n",
       "        vertical-align: middle;\n",
       "    }\n",
       "\n",
       "    .dataframe tbody tr th {\n",
       "        vertical-align: top;\n",
       "    }\n",
       "\n",
       "    .dataframe thead th {\n",
       "        text-align: right;\n",
       "    }\n",
       "</style>\n",
       "<table border=\"1\" class=\"dataframe\">\n",
       "  <thead>\n",
       "    <tr style=\"text-align: right;\">\n",
       "      <th></th>\n",
       "      <th>Period</th>\n",
       "      <th>Username</th>\n",
       "      <th>Date</th>\n",
       "      <th>URL</th>\n",
       "      <th>Content</th>\n",
       "      <th>TweetID</th>\n",
       "      <th>MentionedUsers</th>\n",
       "      <th>Longitude</th>\n",
       "      <th>Latitude</th>\n",
       "      <th>CountryCode</th>\n",
       "      <th>Place</th>\n",
       "      <th>UserID</th>\n",
       "      <th>FollowersCount</th>\n",
       "      <th>UserDescription</th>\n",
       "      <th>UserURL</th>\n",
       "    </tr>\n",
       "  </thead>\n",
       "  <tbody>\n",
       "    <tr>\n",
       "      <th>0</th>\n",
       "      <td>0</td>\n",
       "      <td>tewillmott</td>\n",
       "      <td>2019-08-14T23:59:42+00:00</td>\n",
       "      <td>https://twitter.com/tewillmott/status/11617895...</td>\n",
       "      <td>motivation sweat today smile tomorrow</td>\n",
       "      <td>1161789524902440960</td>\n",
       "      <td>NaN</td>\n",
       "      <td>NaN</td>\n",
       "      <td>NaN</td>\n",
       "      <td>NaN</td>\n",
       "      <td>NaN</td>\n",
       "      <td>2378977625</td>\n",
       "      <td>239</td>\n",
       "      <td>Make up artist for film and television.  Also ...</td>\n",
       "      <td>https://twitter.com/tewillmott</td>\n",
       "    </tr>\n",
       "    <tr>\n",
       "      <th>1</th>\n",
       "      <td>0</td>\n",
       "      <td>tewillmott</td>\n",
       "      <td>2019-08-14T23:50:39+00:00</td>\n",
       "      <td>https://twitter.com/tewillmott/status/11617872...</td>\n",
       "      <td>time kill fat</td>\n",
       "      <td>1161787246460096512</td>\n",
       "      <td>NaN</td>\n",
       "      <td>NaN</td>\n",
       "      <td>NaN</td>\n",
       "      <td>NaN</td>\n",
       "      <td>NaN</td>\n",
       "      <td>2378977625</td>\n",
       "      <td>239</td>\n",
       "      <td>Make up artist for film and television.  Also ...</td>\n",
       "      <td>https://twitter.com/tewillmott</td>\n",
       "    </tr>\n",
       "    <tr>\n",
       "      <th>2</th>\n",
       "      <td>0</td>\n",
       "      <td>tewillmott</td>\n",
       "      <td>2019-08-14T23:45:06+00:00</td>\n",
       "      <td>https://twitter.com/tewillmott/status/11617858...</td>\n",
       "      <td>challenge every day</td>\n",
       "      <td>1161785852357308416</td>\n",
       "      <td>NaN</td>\n",
       "      <td>NaN</td>\n",
       "      <td>NaN</td>\n",
       "      <td>NaN</td>\n",
       "      <td>NaN</td>\n",
       "      <td>2378977625</td>\n",
       "      <td>239</td>\n",
       "      <td>Make up artist for film and television.  Also ...</td>\n",
       "      <td>https://twitter.com/tewillmott</td>\n",
       "    </tr>\n",
       "    <tr>\n",
       "      <th>3</th>\n",
       "      <td>0</td>\n",
       "      <td>tewillmott</td>\n",
       "      <td>2019-08-14T23:40:11+00:00</td>\n",
       "      <td>https://twitter.com/tewillmott/status/11617846...</td>\n",
       "      <td>excuse dont burn calorie fitnessmodel</td>\n",
       "      <td>1161784615822155777</td>\n",
       "      <td>NaN</td>\n",
       "      <td>NaN</td>\n",
       "      <td>NaN</td>\n",
       "      <td>NaN</td>\n",
       "      <td>NaN</td>\n",
       "      <td>2378977625</td>\n",
       "      <td>239</td>\n",
       "      <td>Make up artist for film and television.  Also ...</td>\n",
       "      <td>https://twitter.com/tewillmott</td>\n",
       "    </tr>\n",
       "    <tr>\n",
       "      <th>4</th>\n",
       "      <td>0</td>\n",
       "      <td>tewillmott</td>\n",
       "      <td>2019-08-14T23:36:21+00:00</td>\n",
       "      <td>https://twitter.com/tewillmott/status/11617836...</td>\n",
       "      <td>let get leg right fitnessmodel</td>\n",
       "      <td>1161783648443482112</td>\n",
       "      <td>NaN</td>\n",
       "      <td>NaN</td>\n",
       "      <td>NaN</td>\n",
       "      <td>NaN</td>\n",
       "      <td>NaN</td>\n",
       "      <td>2378977625</td>\n",
       "      <td>239</td>\n",
       "      <td>Make up artist for film and television.  Also ...</td>\n",
       "      <td>https://twitter.com/tewillmott</td>\n",
       "    </tr>\n",
       "  </tbody>\n",
       "</table>\n",
       "</div>"
      ],
      "text/plain": [
       "   Period    Username                       Date  \\\n",
       "0       0  tewillmott  2019-08-14T23:59:42+00:00   \n",
       "1       0  tewillmott  2019-08-14T23:50:39+00:00   \n",
       "2       0  tewillmott  2019-08-14T23:45:06+00:00   \n",
       "3       0  tewillmott  2019-08-14T23:40:11+00:00   \n",
       "4       0  tewillmott  2019-08-14T23:36:21+00:00   \n",
       "\n",
       "                                                 URL  \\\n",
       "0  https://twitter.com/tewillmott/status/11617895...   \n",
       "1  https://twitter.com/tewillmott/status/11617872...   \n",
       "2  https://twitter.com/tewillmott/status/11617858...   \n",
       "3  https://twitter.com/tewillmott/status/11617846...   \n",
       "4  https://twitter.com/tewillmott/status/11617836...   \n",
       "\n",
       "                                 Content              TweetID MentionedUsers  \\\n",
       "0  motivation sweat today smile tomorrow  1161789524902440960            NaN   \n",
       "1                          time kill fat  1161787246460096512            NaN   \n",
       "2                    challenge every day  1161785852357308416            NaN   \n",
       "3  excuse dont burn calorie fitnessmodel  1161784615822155777            NaN   \n",
       "4         let get leg right fitnessmodel  1161783648443482112            NaN   \n",
       "\n",
       "   Longitude  Latitude CountryCode Place      UserID  FollowersCount  \\\n",
       "0        NaN       NaN         NaN   NaN  2378977625             239   \n",
       "1        NaN       NaN         NaN   NaN  2378977625             239   \n",
       "2        NaN       NaN         NaN   NaN  2378977625             239   \n",
       "3        NaN       NaN         NaN   NaN  2378977625             239   \n",
       "4        NaN       NaN         NaN   NaN  2378977625             239   \n",
       "\n",
       "                                     UserDescription  \\\n",
       "0  Make up artist for film and television.  Also ...   \n",
       "1  Make up artist for film and television.  Also ...   \n",
       "2  Make up artist for film and television.  Also ...   \n",
       "3  Make up artist for film and television.  Also ...   \n",
       "4  Make up artist for film and television.  Also ...   \n",
       "\n",
       "                          UserURL  \n",
       "0  https://twitter.com/tewillmott  \n",
       "1  https://twitter.com/tewillmott  \n",
       "2  https://twitter.com/tewillmott  \n",
       "3  https://twitter.com/tewillmott  \n",
       "4  https://twitter.com/tewillmott  "
      ]
     },
     "execution_count": 3,
     "metadata": {},
     "output_type": "execute_result"
    }
   ],
   "source": [
    "# read csv\n",
    "df_clean = pd.read_csv(data_path + \"/clean_data.csv\")\n",
    "\n",
    "df_clean.head()"
   ]
  },
  {
   "attachments": {},
   "cell_type": "markdown",
   "metadata": {},
   "source": [
    "# Sentiment Analysis"
   ]
  },
  {
   "attachments": {},
   "cell_type": "markdown",
   "metadata": {},
   "source": [
    "## VADER Sentiment Analysis"
   ]
  },
  {
   "cell_type": "code",
   "execution_count": 4,
   "metadata": {},
   "outputs": [],
   "source": [
    "# Download VADER lexicon\n",
    "# nltk.download('vader_lexicon')\n",
    "\n",
    "# Initialize VADER analyzer\n",
    "sid = SentimentIntensityAnalyzer()"
   ]
  },
  {
   "cell_type": "code",
   "execution_count": 5,
   "metadata": {},
   "outputs": [],
   "source": [
    "# Define a function to apply the analyzer to each tweet and return the sentiment score\n",
    "def get_sentiment_score(tweet):\n",
    "    scores = sid.polarity_scores(tweet)\n",
    "    return scores['compound']\n",
    "\n",
    "# Apply the function to each tweet in the dataset and add the sentiment score as a new column\n",
    "df_clean['sentiment_score'] = df_clean['Content'].apply(get_sentiment_score)"
   ]
  },
  {
   "cell_type": "code",
   "execution_count": 6,
   "metadata": {},
   "outputs": [],
   "source": [
    "# Define a function to label each tweet as positive, negative, or neutral based on the sentiment score\n",
    "def get_sentiment_label(score):\n",
    "    if score > 0:\n",
    "        return 'positive'\n",
    "    elif score < 0:\n",
    "        return 'negative'\n",
    "    else:\n",
    "        return 'neutral'\n",
    "\n",
    "# Apply the function to each sentiment score and add the sentiment label as a new column\n",
    "df_clean['sentiment_label'] = df_clean['sentiment_score'].apply(get_sentiment_label)"
   ]
  },
  {
   "cell_type": "code",
   "execution_count": 7,
   "metadata": {},
   "outputs": [
    {
     "data": {
      "text/html": [
       "<div>\n",
       "<style scoped>\n",
       "    .dataframe tbody tr th:only-of-type {\n",
       "        vertical-align: middle;\n",
       "    }\n",
       "\n",
       "    .dataframe tbody tr th {\n",
       "        vertical-align: top;\n",
       "    }\n",
       "\n",
       "    .dataframe thead th {\n",
       "        text-align: right;\n",
       "    }\n",
       "</style>\n",
       "<table border=\"1\" class=\"dataframe\">\n",
       "  <thead>\n",
       "    <tr style=\"text-align: right;\">\n",
       "      <th></th>\n",
       "      <th>Period</th>\n",
       "      <th>Username</th>\n",
       "      <th>Date</th>\n",
       "      <th>URL</th>\n",
       "      <th>Content</th>\n",
       "      <th>TweetID</th>\n",
       "      <th>MentionedUsers</th>\n",
       "      <th>Longitude</th>\n",
       "      <th>Latitude</th>\n",
       "      <th>CountryCode</th>\n",
       "      <th>Place</th>\n",
       "      <th>UserID</th>\n",
       "      <th>FollowersCount</th>\n",
       "      <th>UserDescription</th>\n",
       "      <th>UserURL</th>\n",
       "      <th>sentiment_score</th>\n",
       "      <th>sentiment_label</th>\n",
       "    </tr>\n",
       "  </thead>\n",
       "  <tbody>\n",
       "    <tr>\n",
       "      <th>0</th>\n",
       "      <td>0</td>\n",
       "      <td>tewillmott</td>\n",
       "      <td>2019-08-14T23:59:42+00:00</td>\n",
       "      <td>https://twitter.com/tewillmott/status/11617895...</td>\n",
       "      <td>motivation sweat today smile tomorrow</td>\n",
       "      <td>1161789524902440960</td>\n",
       "      <td>NaN</td>\n",
       "      <td>NaN</td>\n",
       "      <td>NaN</td>\n",
       "      <td>NaN</td>\n",
       "      <td>NaN</td>\n",
       "      <td>2378977625</td>\n",
       "      <td>239</td>\n",
       "      <td>Make up artist for film and television.  Also ...</td>\n",
       "      <td>https://twitter.com/tewillmott</td>\n",
       "      <td>0.5994</td>\n",
       "      <td>positive</td>\n",
       "    </tr>\n",
       "    <tr>\n",
       "      <th>1</th>\n",
       "      <td>0</td>\n",
       "      <td>tewillmott</td>\n",
       "      <td>2019-08-14T23:50:39+00:00</td>\n",
       "      <td>https://twitter.com/tewillmott/status/11617872...</td>\n",
       "      <td>time kill fat</td>\n",
       "      <td>1161787246460096512</td>\n",
       "      <td>NaN</td>\n",
       "      <td>NaN</td>\n",
       "      <td>NaN</td>\n",
       "      <td>NaN</td>\n",
       "      <td>NaN</td>\n",
       "      <td>2378977625</td>\n",
       "      <td>239</td>\n",
       "      <td>Make up artist for film and television.  Also ...</td>\n",
       "      <td>https://twitter.com/tewillmott</td>\n",
       "      <td>-0.6908</td>\n",
       "      <td>negative</td>\n",
       "    </tr>\n",
       "    <tr>\n",
       "      <th>2</th>\n",
       "      <td>0</td>\n",
       "      <td>tewillmott</td>\n",
       "      <td>2019-08-14T23:45:06+00:00</td>\n",
       "      <td>https://twitter.com/tewillmott/status/11617858...</td>\n",
       "      <td>challenge every day</td>\n",
       "      <td>1161785852357308416</td>\n",
       "      <td>NaN</td>\n",
       "      <td>NaN</td>\n",
       "      <td>NaN</td>\n",
       "      <td>NaN</td>\n",
       "      <td>NaN</td>\n",
       "      <td>2378977625</td>\n",
       "      <td>239</td>\n",
       "      <td>Make up artist for film and television.  Also ...</td>\n",
       "      <td>https://twitter.com/tewillmott</td>\n",
       "      <td>0.0772</td>\n",
       "      <td>positive</td>\n",
       "    </tr>\n",
       "    <tr>\n",
       "      <th>3</th>\n",
       "      <td>0</td>\n",
       "      <td>tewillmott</td>\n",
       "      <td>2019-08-14T23:40:11+00:00</td>\n",
       "      <td>https://twitter.com/tewillmott/status/11617846...</td>\n",
       "      <td>excuse dont burn calorie fitnessmodel</td>\n",
       "      <td>1161784615822155777</td>\n",
       "      <td>NaN</td>\n",
       "      <td>NaN</td>\n",
       "      <td>NaN</td>\n",
       "      <td>NaN</td>\n",
       "      <td>NaN</td>\n",
       "      <td>2378977625</td>\n",
       "      <td>239</td>\n",
       "      <td>Make up artist for film and television.  Also ...</td>\n",
       "      <td>https://twitter.com/tewillmott</td>\n",
       "      <td>0.0772</td>\n",
       "      <td>positive</td>\n",
       "    </tr>\n",
       "    <tr>\n",
       "      <th>4</th>\n",
       "      <td>0</td>\n",
       "      <td>tewillmott</td>\n",
       "      <td>2019-08-14T23:36:21+00:00</td>\n",
       "      <td>https://twitter.com/tewillmott/status/11617836...</td>\n",
       "      <td>let get leg right fitnessmodel</td>\n",
       "      <td>1161783648443482112</td>\n",
       "      <td>NaN</td>\n",
       "      <td>NaN</td>\n",
       "      <td>NaN</td>\n",
       "      <td>NaN</td>\n",
       "      <td>NaN</td>\n",
       "      <td>2378977625</td>\n",
       "      <td>239</td>\n",
       "      <td>Make up artist for film and television.  Also ...</td>\n",
       "      <td>https://twitter.com/tewillmott</td>\n",
       "      <td>0.0000</td>\n",
       "      <td>neutral</td>\n",
       "    </tr>\n",
       "  </tbody>\n",
       "</table>\n",
       "</div>"
      ],
      "text/plain": [
       "   Period    Username                       Date  \\\n",
       "0       0  tewillmott  2019-08-14T23:59:42+00:00   \n",
       "1       0  tewillmott  2019-08-14T23:50:39+00:00   \n",
       "2       0  tewillmott  2019-08-14T23:45:06+00:00   \n",
       "3       0  tewillmott  2019-08-14T23:40:11+00:00   \n",
       "4       0  tewillmott  2019-08-14T23:36:21+00:00   \n",
       "\n",
       "                                                 URL  \\\n",
       "0  https://twitter.com/tewillmott/status/11617895...   \n",
       "1  https://twitter.com/tewillmott/status/11617872...   \n",
       "2  https://twitter.com/tewillmott/status/11617858...   \n",
       "3  https://twitter.com/tewillmott/status/11617846...   \n",
       "4  https://twitter.com/tewillmott/status/11617836...   \n",
       "\n",
       "                                 Content              TweetID MentionedUsers  \\\n",
       "0  motivation sweat today smile tomorrow  1161789524902440960            NaN   \n",
       "1                          time kill fat  1161787246460096512            NaN   \n",
       "2                    challenge every day  1161785852357308416            NaN   \n",
       "3  excuse dont burn calorie fitnessmodel  1161784615822155777            NaN   \n",
       "4         let get leg right fitnessmodel  1161783648443482112            NaN   \n",
       "\n",
       "   Longitude  Latitude CountryCode Place      UserID  FollowersCount  \\\n",
       "0        NaN       NaN         NaN   NaN  2378977625             239   \n",
       "1        NaN       NaN         NaN   NaN  2378977625             239   \n",
       "2        NaN       NaN         NaN   NaN  2378977625             239   \n",
       "3        NaN       NaN         NaN   NaN  2378977625             239   \n",
       "4        NaN       NaN         NaN   NaN  2378977625             239   \n",
       "\n",
       "                                     UserDescription  \\\n",
       "0  Make up artist for film and television.  Also ...   \n",
       "1  Make up artist for film and television.  Also ...   \n",
       "2  Make up artist for film and television.  Also ...   \n",
       "3  Make up artist for film and television.  Also ...   \n",
       "4  Make up artist for film and television.  Also ...   \n",
       "\n",
       "                          UserURL  sentiment_score sentiment_label  \n",
       "0  https://twitter.com/tewillmott           0.5994        positive  \n",
       "1  https://twitter.com/tewillmott          -0.6908        negative  \n",
       "2  https://twitter.com/tewillmott           0.0772        positive  \n",
       "3  https://twitter.com/tewillmott           0.0772        positive  \n",
       "4  https://twitter.com/tewillmott           0.0000         neutral  "
      ]
     },
     "execution_count": 7,
     "metadata": {},
     "output_type": "execute_result"
    }
   ],
   "source": [
    "df_clean.head()"
   ]
  },
  {
   "attachments": {},
   "cell_type": "markdown",
   "metadata": {},
   "source": [
    "## Check between-period difference"
   ]
  },
  {
   "attachments": {},
   "cell_type": "markdown",
   "metadata": {},
   "source": [
    "Based on the descriptive data above, we can observe that the mean compound score of sentiment is highest for late-pandemic fitpiration tweets, followed by pre-pandemic and then early-pandemic. This suggests that, on average, late-pandemic fitpiration tweets are more positive than pre-pandemic ones, with early-pandemic tweets being the least optimistic."
   ]
  },
  {
   "cell_type": "code",
   "execution_count": 4,
   "metadata": {},
   "outputs": [
    {
     "data": {
      "image/png": "[encoded data removed]",
      "text/plain": [
       "<Figure size 640x480 with 1 Axes>"
      ]
     },
     "metadata": {},
     "output_type": "display_data"
    }
   ],
   "source": [
    "# Create a box plot to compare the three groups\n",
    "sns.set_style(\"ticks\")\n",
    "ax = sns.boxplot(x='Period', y='sentiment_score', data=df_clean)\n",
    "sns.despine(trim=True)\n",
    "sns.set_palette(\"Set2\")\n",
    "\n",
    "# Set the x-axis tick labels\n",
    "ax.set_xticklabels(['Pre-pandemic', 'Early-pandemic', 'Late-pandemic'])\n",
    "\n",
    "# Calculate the mean of each group\n",
    "means = df_clean.groupby('Period')['sentiment_score'].mean()\n",
    "\n",
    "# Add horizontal lines for the mean of each group\n",
    "plt.axhline(y=means[0], color='r', linestyle='--', label='Pre-pandemic mean')\n",
    "plt.axhline(y=means[1], color='g', linestyle='--', label='Early-pandemic mean')\n",
    "plt.axhline(y=means[2], color='b', linestyle='--', label='Late-pandemic mean')\n",
    "\n",
    "# Add a title and axis labels\n",
    "plt.title('Comparison of Sentiment Scores between Three Periods', fontsize=14)\n",
    "plt.xlabel('Period', fontsize=12)\n",
    "plt.ylabel('Sentiment Score', fontsize=12)\n",
    "\n",
    "# Save the figure\n",
    "plt.savefig('sentiment_scores.png', dpi=300, bbox_inches='tight')\n",
    "\n",
    "# Add the legend\n",
    "plt.legend()\n",
    "\n",
    "# Show the plot\n",
    "plt.show()"
   ]
  },
  {
   "cell_type": "code",
   "execution_count": 17,
   "metadata": {},
   "outputs": [],
   "source": [
    "# Save a copy of data with the sentiment scores\n",
    "df_clean.to_csv('sentiment_temp.csv', index=False)"
   ]
  },
  {
   "attachments": {},
   "cell_type": "markdown",
   "metadata": {},
   "source": [
    "ANOVA (Analysis of Variance) test to determine whether there is a statistically significant difference between the three groups"
   ]
  },
  {
   "cell_type": "code",
   "execution_count": 60,
   "metadata": {},
   "outputs": [
    {
     "name": "stdout",
     "output_type": "stream",
     "text": [
      "F-statistic: 2.8289735993699754\n",
      "p-value: 0.05909777784306111\n"
     ]
    }
   ],
   "source": [
    "# Extract the sentiment scores for each period\n",
    "period_0 = df_clean[df_clean['Period'] == 0]['sentiment_score']\n",
    "period_1 = df_clean[df_clean['Period'] == 1]['sentiment_score']\n",
    "period_2 = df_clean[df_clean['Period'] == 2]['sentiment_score']\n",
    "\n",
    "# Perform an ANOVA test\n",
    "f_stat, p_value = f_oneway(period_0, period_1, period_2)\n",
    "\n",
    "print(\"F-statistic:\", f_stat)\n",
    "print(\"p-value:\", p_value)"
   ]
  },
  {
   "attachments": {},
   "cell_type": "markdown",
   "metadata": {},
   "source": [
    "p-value is right on edge of the chosen significance level (0.05). Therefore, I performed post-hoc tests (Tukey's HSD) to determine which pairs of groups have a significant difference in means."
   ]
  },
  {
   "cell_type": "code",
   "execution_count": 67,
   "metadata": {},
   "outputs": [
    {
     "name": "stdout",
     "output_type": "stream",
     "text": [
      "Multiple Comparison of Means - Tukey HSD, FWER=0.05\n",
      "===================================================\n",
      "group1 group2 meandiff p-adj   lower  upper  reject\n",
      "---------------------------------------------------\n",
      "   0.0    1.0  -0.0106 0.1504  -0.024 0.0028  False\n",
      "   0.0    2.0   0.0113 0.5109 -0.0126 0.0352  False\n",
      "   1.0    2.0   0.0219 0.1019 -0.0032  0.047  False\n",
      "---------------------------------------------------\n"
     ]
    }
   ],
   "source": [
    "# Define the groups to compare\n",
    "groups = [0, 1, 2]\n",
    "\n",
    "# Create a list of Series—the sentiment scores for each group\n",
    "data = [df_clean[df_clean['Period'] == i]['sentiment_score'] for i in groups]\n",
    "\n",
    "# Perform Tukey's HSD test\n",
    "tukey = mc.MultiComparison(np.concatenate(data), \n",
    "                           np.concatenate([np.zeros(len(data[i])) + i \n",
    "                                           for i in range(len(data))]))\n",
    "result = tukey.tukeyhsd()\n",
    "\n",
    "# Print the results\n",
    "print(result)"
   ]
  },
  {
   "attachments": {},
   "cell_type": "markdown",
   "metadata": {},
   "source": [
    "The Tukey HSD test has found that there is no significant difference between groups 0 and 1 (p-adj = 0.1504), no significant difference between groups 0 and 2 (p-adj = 0.5109), and no significant difference between groups 1 and 2 (p-adj = 0.1019)."
   ]
  },
  {
   "attachments": {},
   "cell_type": "markdown",
   "metadata": {},
   "source": [
    "## Check in-period trends"
   ]
  },
  {
   "cell_type": "code",
   "execution_count": 86,
   "metadata": {},
   "outputs": [
    {
     "data": {
      "text/html": [
       "<div>\n",
       "<style scoped>\n",
       "    .dataframe tbody tr th:only-of-type {\n",
       "        vertical-align: middle;\n",
       "    }\n",
       "\n",
       "    .dataframe tbody tr th {\n",
       "        vertical-align: top;\n",
       "    }\n",
       "\n",
       "    .dataframe thead th {\n",
       "        text-align: right;\n",
       "    }\n",
       "</style>\n",
       "<table border=\"1\" class=\"dataframe\">\n",
       "  <thead>\n",
       "    <tr style=\"text-align: right;\">\n",
       "      <th></th>\n",
       "      <th>count</th>\n",
       "      <th>mean</th>\n",
       "      <th>std</th>\n",
       "      <th>min</th>\n",
       "      <th>25%</th>\n",
       "      <th>50%</th>\n",
       "      <th>75%</th>\n",
       "      <th>max</th>\n",
       "    </tr>\n",
       "    <tr>\n",
       "      <th>Period</th>\n",
       "      <th></th>\n",
       "      <th></th>\n",
       "      <th></th>\n",
       "      <th></th>\n",
       "      <th></th>\n",
       "      <th></th>\n",
       "      <th></th>\n",
       "      <th></th>\n",
       "    </tr>\n",
       "  </thead>\n",
       "  <tbody>\n",
       "    <tr>\n",
       "      <th>0</th>\n",
       "      <td>11961.0</td>\n",
       "      <td>0.220345</td>\n",
       "      <td>0.362536</td>\n",
       "      <td>-0.9423</td>\n",
       "      <td>0.0</td>\n",
       "      <td>0.0000</td>\n",
       "      <td>0.5106</td>\n",
       "      <td>0.9911</td>\n",
       "    </tr>\n",
       "    <tr>\n",
       "      <th>1</th>\n",
       "      <td>6071.0</td>\n",
       "      <td>0.209718</td>\n",
       "      <td>0.357862</td>\n",
       "      <td>-0.9468</td>\n",
       "      <td>0.0</td>\n",
       "      <td>0.0000</td>\n",
       "      <td>0.4939</td>\n",
       "      <td>0.9796</td>\n",
       "    </tr>\n",
       "    <tr>\n",
       "      <th>2</th>\n",
       "      <td>1409.0</td>\n",
       "      <td>0.231629</td>\n",
       "      <td>0.381496</td>\n",
       "      <td>-0.9022</td>\n",
       "      <td>0.0</td>\n",
       "      <td>0.0516</td>\n",
       "      <td>0.5719</td>\n",
       "      <td>0.9753</td>\n",
       "    </tr>\n",
       "  </tbody>\n",
       "</table>\n",
       "</div>"
      ],
      "text/plain": [
       "          count      mean       std     min  25%     50%     75%     max\n",
       "Period                                                                  \n",
       "0       11961.0  0.220345  0.362536 -0.9423  0.0  0.0000  0.5106  0.9911\n",
       "1        6071.0  0.209718  0.357862 -0.9468  0.0  0.0000  0.4939  0.9796\n",
       "2        1409.0  0.231629  0.381496 -0.9022  0.0  0.0516  0.5719  0.9753"
      ]
     },
     "execution_count": 86,
     "metadata": {},
     "output_type": "execute_result"
    }
   ],
   "source": [
    "df_clean.groupby('Period').sentiment_score.describe()"
   ]
  },
  {
   "cell_type": "code",
   "execution_count": 98,
   "metadata": {},
   "outputs": [
    {
     "name": "stdout",
     "output_type": "stream",
     "text": [
      "Significant period for Period 1: (Timestamp('2020-03-01 00:03:38+0000', tz='UTC'), Timestamp('2020-12-25 23:44:34+0000', tz='UTC'))\n"
     ]
    },
    {
     "data": {
      "image/png": "[encoded data removed]",
      "text/plain": [
       "<Figure size 800x600 with 1 Axes>"
      ]
     },
     "metadata": {},
     "output_type": "display_data"
    },
    {
     "name": "stdout",
     "output_type": "stream",
     "text": [
      "                 start_date                  end_date     slope   intercept  \\\n",
      "0 2019-03-01 00:00:55+00:00 2019-12-18 23:54:26+00:00  0.000060 -147.354467   \n",
      "1 2020-03-01 00:03:38+00:00 2020-12-25 23:44:34+00:00  0.000265 -650.998261   \n",
      "2 2022-03-01 05:08:27+00:00 2022-12-18 23:00:53+00:00  0.000058 -141.587279   \n",
      "\n",
      "     rvalue    pvalue    stderr  \n",
      "0  0.000178  0.144051  0.000041  \n",
      "1  0.002753  0.000043  0.000065  \n",
      "2  0.000174  0.620801  0.000117  \n"
     ]
    }
   ],
   "source": [
    "# create a new DataFrame to store the results\n",
    "results = pd.DataFrame(columns=['start_date', 'end_date', 'slope', 'intercept', 'rvalue', 'pvalue', 'stderr'])\n",
    "\n",
    "# loop through the groups and perform the regression analysis\n",
    "for name, group in df_clean.groupby('Period'):\n",
    "    group.set_index(group['Date'], inplace=True)\n",
    "    if len(group.index) > 0:\n",
    "        x = sm.add_constant(list(group.index.to_julian_date())) # convert date to Julian date and add constant\n",
    "        y = list(group['sentiment_score'])\n",
    "\n",
    "        model = sm.OLS(y, x, missing='drop')\n",
    "        fitted = model.fit()\n",
    "            \n",
    "        results = results.append({'start_date': group.index.min(), \n",
    "                                'end_date': group.index.max(), \n",
    "                                'slope': fitted.params[1], \n",
    "                                'intercept': fitted.params[0], \n",
    "                                'rvalue': fitted.rsquared, \n",
    "                                'pvalue': fitted.pvalues[1], \n",
    "                                'stderr': fitted.bse[1]}, \n",
    "                                ignore_index=True)\n",
    "        \n",
    "        # check if the p-value is less than 0.05 (i.e., statistically significant)\n",
    "        if fitted.pvalues[1] < 0.05:\n",
    "            significant_period = (group.index.min(), group.index.max()) # get the start and end dates of the significant period\n",
    "            print(f\"Significant period for Period {name}: {significant_period}\")\n",
    "            \n",
    "            # plot the scatter plot and regression line\n",
    "            fig, ax = plt.subplots(figsize=(8,6))\n",
    "            x = list(group.index.to_julian_date())\n",
    "            ax.scatter(x, y)\n",
    "            ax.plot(x, fitted.fittedvalues, color='red')\n",
    "\n",
    "            # add labels and title\n",
    "            ax.set_xlabel('Date (Julian)')\n",
    "            ax.set_ylabel('Sentiment Score')\n",
    "            ax.set_title(f'Regression Analysis for Period {name}')\n",
    "\n",
    "            # show the plot\n",
    "            plt.show()\n",
    "# print the results\n",
    "print(results)"
   ]
  },
  {
   "attachments": {},
   "cell_type": "markdown",
   "metadata": {},
   "source": [
    "Among the three identified periods, only the early-pandemic period displays a statistically significant increase in the sentiment score over time. However, the rate of increase is minimal."
   ]
  },
  {
   "attachments": {},
   "cell_type": "markdown",
   "metadata": {},
   "source": [
    "## Check three-month periods"
   ]
  },
  {
   "cell_type": "code",
   "execution_count": 12,
   "metadata": {},
   "outputs": [],
   "source": [
    "# convert the date column to datetime format\n",
    "df_clean['Date'] = pd.to_datetime(df_clean['Date'])"
   ]
  },
  {
   "cell_type": "code",
   "execution_count": 126,
   "metadata": {},
   "outputs": [],
   "source": [
    "# group the dates into three-month periods\n",
    "df_grouped = df_clean.groupby(pd.Grouper(key='Date', freq='3M'))"
   ]
  },
  {
   "cell_type": "code",
   "execution_count": 40,
   "metadata": {},
   "outputs": [
    {
     "data": {
      "text/plain": [
       "Date\n",
       "2019-03-31 00:00:00+00:00    1099\n",
       "2019-06-30 00:00:00+00:00    2814\n",
       "2019-09-30 00:00:00+00:00    4445\n",
       "2019-12-31 00:00:00+00:00    3603\n",
       "2020-03-31 00:00:00+00:00     928\n",
       "2020-06-30 00:00:00+00:00    2301\n",
       "2020-09-30 00:00:00+00:00    2358\n",
       "2020-12-31 00:00:00+00:00     484\n",
       "2021-03-31 00:00:00+00:00       0\n",
       "2021-06-30 00:00:00+00:00       0\n",
       "2021-09-30 00:00:00+00:00       0\n",
       "2021-12-31 00:00:00+00:00       0\n",
       "2022-03-31 00:00:00+00:00     115\n",
       "2022-06-30 00:00:00+00:00     313\n",
       "2022-09-30 00:00:00+00:00     455\n",
       "2022-12-31 00:00:00+00:00     526\n",
       "Freq: 3M, Name: sentiment_score, dtype: int64"
      ]
     },
     "execution_count": 40,
     "metadata": {},
     "output_type": "execute_result"
    }
   ],
   "source": [
    "# Check the count of each time group\n",
    "df_grouped['sentiment_score'].count()"
   ]
  },
  {
   "attachments": {},
   "cell_type": "markdown",
   "metadata": {},
   "source": [
    "### Check between-group differences"
   ]
  },
  {
   "cell_type": "code",
   "execution_count": 102,
   "metadata": {},
   "outputs": [
    {
     "data": {
      "text/html": [
       "<div>\n",
       "<style scoped>\n",
       "    .dataframe tbody tr th:only-of-type {\n",
       "        vertical-align: middle;\n",
       "    }\n",
       "\n",
       "    .dataframe tbody tr th {\n",
       "        vertical-align: top;\n",
       "    }\n",
       "\n",
       "    .dataframe thead th {\n",
       "        text-align: right;\n",
       "    }\n",
       "</style>\n",
       "<table border=\"1\" class=\"dataframe\">\n",
       "  <thead>\n",
       "    <tr style=\"text-align: right;\">\n",
       "      <th></th>\n",
       "      <th>mean</th>\n",
       "      <th>median</th>\n",
       "      <th>std</th>\n",
       "    </tr>\n",
       "    <tr>\n",
       "      <th>Date</th>\n",
       "      <th></th>\n",
       "      <th></th>\n",
       "      <th></th>\n",
       "    </tr>\n",
       "  </thead>\n",
       "  <tbody>\n",
       "    <tr>\n",
       "      <th>2019-03-31 00:00:00+00:00</th>\n",
       "      <td>0.212231</td>\n",
       "      <td>0.0000</td>\n",
       "      <td>0.363271</td>\n",
       "    </tr>\n",
       "    <tr>\n",
       "      <th>2019-06-30 00:00:00+00:00</th>\n",
       "      <td>0.224334</td>\n",
       "      <td>0.0000</td>\n",
       "      <td>0.361585</td>\n",
       "    </tr>\n",
       "    <tr>\n",
       "      <th>2019-09-30 00:00:00+00:00</th>\n",
       "      <td>0.210202</td>\n",
       "      <td>0.0000</td>\n",
       "      <td>0.359668</td>\n",
       "    </tr>\n",
       "    <tr>\n",
       "      <th>2019-12-31 00:00:00+00:00</th>\n",
       "      <td>0.232219</td>\n",
       "      <td>0.0516</td>\n",
       "      <td>0.366295</td>\n",
       "    </tr>\n",
       "    <tr>\n",
       "      <th>2020-03-31 00:00:00+00:00</th>\n",
       "      <td>0.196921</td>\n",
       "      <td>0.0000</td>\n",
       "      <td>0.360368</td>\n",
       "    </tr>\n",
       "    <tr>\n",
       "      <th>2020-06-30 00:00:00+00:00</th>\n",
       "      <td>0.192539</td>\n",
       "      <td>0.0000</td>\n",
       "      <td>0.350144</td>\n",
       "    </tr>\n",
       "    <tr>\n",
       "      <th>2020-09-30 00:00:00+00:00</th>\n",
       "      <td>0.219802</td>\n",
       "      <td>0.0000</td>\n",
       "      <td>0.358734</td>\n",
       "    </tr>\n",
       "    <tr>\n",
       "      <th>2020-12-31 00:00:00+00:00</th>\n",
       "      <td>0.266798</td>\n",
       "      <td>0.2129</td>\n",
       "      <td>0.378013</td>\n",
       "    </tr>\n",
       "    <tr>\n",
       "      <th>2022-03-31 00:00:00+00:00</th>\n",
       "      <td>0.154007</td>\n",
       "      <td>0.0000</td>\n",
       "      <td>0.375506</td>\n",
       "    </tr>\n",
       "    <tr>\n",
       "      <th>2022-06-30 00:00:00+00:00</th>\n",
       "      <td>0.237045</td>\n",
       "      <td>0.0772</td>\n",
       "      <td>0.382772</td>\n",
       "    </tr>\n",
       "    <tr>\n",
       "      <th>2022-09-30 00:00:00+00:00</th>\n",
       "      <td>0.256680</td>\n",
       "      <td>0.0772</td>\n",
       "      <td>0.381589</td>\n",
       "    </tr>\n",
       "    <tr>\n",
       "      <th>2022-12-31 00:00:00+00:00</th>\n",
       "      <td>0.223707</td>\n",
       "      <td>0.0772</td>\n",
       "      <td>0.380487</td>\n",
       "    </tr>\n",
       "  </tbody>\n",
       "</table>\n",
       "</div>"
      ],
      "text/plain": [
       "                               mean  median       std\n",
       "Date                                                 \n",
       "2019-03-31 00:00:00+00:00  0.212231  0.0000  0.363271\n",
       "2019-06-30 00:00:00+00:00  0.224334  0.0000  0.361585\n",
       "2019-09-30 00:00:00+00:00  0.210202  0.0000  0.359668\n",
       "2019-12-31 00:00:00+00:00  0.232219  0.0516  0.366295\n",
       "2020-03-31 00:00:00+00:00  0.196921  0.0000  0.360368\n",
       "2020-06-30 00:00:00+00:00  0.192539  0.0000  0.350144\n",
       "2020-09-30 00:00:00+00:00  0.219802  0.0000  0.358734\n",
       "2020-12-31 00:00:00+00:00  0.266798  0.2129  0.378013\n",
       "2022-03-31 00:00:00+00:00  0.154007  0.0000  0.375506\n",
       "2022-06-30 00:00:00+00:00  0.237045  0.0772  0.382772\n",
       "2022-09-30 00:00:00+00:00  0.256680  0.0772  0.381589\n",
       "2022-12-31 00:00:00+00:00  0.223707  0.0772  0.380487"
      ]
     },
     "execution_count": 102,
     "metadata": {},
     "output_type": "execute_result"
    },
    {
     "data": {
      "image/png": "[encoded data removed]",
      "text/plain": [
       "<Figure size 640x480 with 1 Axes>"
      ]
     },
     "metadata": {},
     "output_type": "display_data"
    }
   ],
   "source": [
    "# Check the descriptive stats of the three-month periods\n",
    "df_agg = df_grouped.agg(['mean', 'median', 'std'])['sentiment_score']\n",
    "df_agg = df_agg[df_agg['mean'].isna() == False]\n",
    "df_agg['mean'].plot()\n",
    "df_agg"
   ]
  },
  {
   "cell_type": "code",
   "execution_count": 112,
   "metadata": {},
   "outputs": [
    {
     "data": {
      "text/plain": [
       "{Timestamp('2019-03-31 00:00:00+0000', tz='UTC', freq='3M'): 1099,\n",
       " Timestamp('2019-06-30 00:00:00+0000', tz='UTC', freq='3M'): 3913,\n",
       " Timestamp('2019-09-30 00:00:00+0000', tz='UTC', freq='3M'): 8358,\n",
       " Timestamp('2019-12-31 00:00:00+0000', tz='UTC', freq='3M'): 11961,\n",
       " Timestamp('2020-03-31 00:00:00+0000', tz='UTC', freq='3M'): 12889,\n",
       " Timestamp('2020-06-30 00:00:00+0000', tz='UTC', freq='3M'): 15190,\n",
       " Timestamp('2020-09-30 00:00:00+0000', tz='UTC', freq='3M'): 17548,\n",
       " Timestamp('2020-12-31 00:00:00+0000', tz='UTC', freq='3M'): 18032,\n",
       " Timestamp('2021-03-31 00:00:00+0000', tz='UTC', freq='3M'): 18032,\n",
       " Timestamp('2021-06-30 00:00:00+0000', tz='UTC', freq='3M'): 18032,\n",
       " Timestamp('2021-09-30 00:00:00+0000', tz='UTC', freq='3M'): 18032,\n",
       " Timestamp('2021-12-31 00:00:00+0000', tz='UTC', freq='3M'): 18032,\n",
       " Timestamp('2022-03-31 00:00:00+0000', tz='UTC', freq='3M'): 18147,\n",
       " Timestamp('2022-06-30 00:00:00+0000', tz='UTC', freq='3M'): 18460,\n",
       " Timestamp('2022-09-30 00:00:00+0000', tz='UTC', freq='3M'): 18915,\n",
       " Timestamp('2022-12-31 00:00:00+0000', tz='UTC', freq='3M'): 19441}"
      ]
     },
     "execution_count": 112,
     "metadata": {},
     "output_type": "execute_result"
    }
   ],
   "source": [
    "df_grouped.groups"
   ]
  },
  {
   "cell_type": "code",
   "execution_count": 128,
   "metadata": {},
   "outputs": [
    {
     "data": {
      "text/plain": [
       "Text(0.5, 0, 'Period')"
      ]
     },
     "execution_count": 128,
     "metadata": {},
     "output_type": "execute_result"
    },
    {
     "data": {
      "image/png": "[encoded data removed]",
      "text/plain": [
       "<Figure size 640x480 with 1 Axes>"
      ]
     },
     "metadata": {},
     "output_type": "display_data"
    }
   ],
   "source": [
    "# create a list of sentiment scores for each period\n",
    "periods = [group['sentiment_score'] for _, group in df_grouped if len(group) != 0]\n",
    "\n",
    "# create a figure and axis object\n",
    "fig, ax = plt.subplots()\n",
    "\n",
    "# create the box plot\n",
    "ax.boxplot(periods)\n",
    "\n",
    "# set the labels and title\n",
    "ax.set_xticklabels([key.year for key, group in df_grouped if len(group) != 0])\n",
    "ax.set_xlabel('Period')"
   ]
  },
  {
   "attachments": {},
   "cell_type": "markdown",
   "metadata": {},
   "source": [
    "# Topic Modeling"
   ]
  },
  {
   "cell_type": "code",
   "execution_count": null,
   "metadata": {},
   "outputs": [],
   "source": []
  }
 ],
 "metadata": {
  "kernelspec": {
   "display_name": "nlp",
   "language": "python",
   "name": "python3"
  },
  "language_info": {
   "codemirror_mode": {
    "name": "ipython",
    "version": 3
   },
   "file_extension": ".py",
   "mimetype": "text/x-python",
   "name": "python",
   "nbconvert_exporter": "python",
   "pygments_lexer": "ipython3",
   "version": "3.9.13"
  },
  "orig_nbformat": 4
 },
 "nbformat": 4,
 "nbformat_minor": 2
}
