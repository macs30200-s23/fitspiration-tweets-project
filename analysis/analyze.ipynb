{
 "cells": [
  {
   "cell_type": "code",
   "execution_count": 63,
   "metadata": {},
   "outputs": [],
   "source": [
    "import os\n",
    "import pandas as pd\n",
    "\n",
    "from nltk.sentiment.vader import SentimentIntensityAnalyzer\n",
    "\n",
    "import seaborn as sns\n",
    "import matplotlib.pyplot as plt\n",
    "\n",
    "import statsmodels.stats.multicomp as mc\n",
    "from scipy.stats import f_oneway\n",
    "import numpy as np\n"
   ]
  },
  {
   "cell_type": "code",
   "execution_count": 23,
   "metadata": {},
   "outputs": [
    {
     "name": "stdout",
     "output_type": "stream",
     "text": [
      "/Users/jiayan/Downloads/codes_macs_2022-2023/macs30200/replication-materials-jiayanli/data\n"
     ]
    }
   ],
   "source": [
    "# Get the current working directory path\n",
    "cwd = os.getcwd()\n",
    "\n",
    "# Get the path to the data directory\n",
    "data_path = os.path.dirname(os.path.abspath(cwd)) + \"/data\"\n",
    "print(data_path)"
   ]
  },
  {
   "cell_type": "code",
   "execution_count": 34,
   "metadata": {},
   "outputs": [
    {
     "data": {
      "text/html": [
       "<div>\n",
       "<style scoped>\n",
       "    .dataframe tbody tr th:only-of-type {\n",
       "        vertical-align: middle;\n",
       "    }\n",
       "\n",
       "    .dataframe tbody tr th {\n",
       "        vertical-align: top;\n",
       "    }\n",
       "\n",
       "    .dataframe thead th {\n",
       "        text-align: right;\n",
       "    }\n",
       "</style>\n",
       "<table border=\"1\" class=\"dataframe\">\n",
       "  <thead>\n",
       "    <tr style=\"text-align: right;\">\n",
       "      <th></th>\n",
       "      <th>Period</th>\n",
       "      <th>Username</th>\n",
       "      <th>Date</th>\n",
       "      <th>URL</th>\n",
       "      <th>Content</th>\n",
       "      <th>TweetID</th>\n",
       "      <th>MentionedUsers</th>\n",
       "      <th>Longitude</th>\n",
       "      <th>Latitude</th>\n",
       "      <th>CountryCode</th>\n",
       "      <th>Place</th>\n",
       "      <th>UserID</th>\n",
       "      <th>FollowersCount</th>\n",
       "      <th>UserDescription</th>\n",
       "      <th>UserURL</th>\n",
       "    </tr>\n",
       "  </thead>\n",
       "  <tbody>\n",
       "    <tr>\n",
       "      <th>0</th>\n",
       "      <td>0</td>\n",
       "      <td>tewillmott</td>\n",
       "      <td>2019-08-14T23:59:42+00:00</td>\n",
       "      <td>https://twitter.com/tewillmott/status/11617895...</td>\n",
       "      <td>motivation sweat today smile tomorrow</td>\n",
       "      <td>1161789524902440960</td>\n",
       "      <td>NaN</td>\n",
       "      <td>NaN</td>\n",
       "      <td>NaN</td>\n",
       "      <td>NaN</td>\n",
       "      <td>NaN</td>\n",
       "      <td>2378977625</td>\n",
       "      <td>239</td>\n",
       "      <td>Make up artist for film and television.  Also ...</td>\n",
       "      <td>https://twitter.com/tewillmott</td>\n",
       "    </tr>\n",
       "    <tr>\n",
       "      <th>1</th>\n",
       "      <td>0</td>\n",
       "      <td>tewillmott</td>\n",
       "      <td>2019-08-14T23:50:39+00:00</td>\n",
       "      <td>https://twitter.com/tewillmott/status/11617872...</td>\n",
       "      <td>time kill fat</td>\n",
       "      <td>1161787246460096512</td>\n",
       "      <td>NaN</td>\n",
       "      <td>NaN</td>\n",
       "      <td>NaN</td>\n",
       "      <td>NaN</td>\n",
       "      <td>NaN</td>\n",
       "      <td>2378977625</td>\n",
       "      <td>239</td>\n",
       "      <td>Make up artist for film and television.  Also ...</td>\n",
       "      <td>https://twitter.com/tewillmott</td>\n",
       "    </tr>\n",
       "    <tr>\n",
       "      <th>2</th>\n",
       "      <td>0</td>\n",
       "      <td>tewillmott</td>\n",
       "      <td>2019-08-14T23:45:06+00:00</td>\n",
       "      <td>https://twitter.com/tewillmott/status/11617858...</td>\n",
       "      <td>challenge every day</td>\n",
       "      <td>1161785852357308416</td>\n",
       "      <td>NaN</td>\n",
       "      <td>NaN</td>\n",
       "      <td>NaN</td>\n",
       "      <td>NaN</td>\n",
       "      <td>NaN</td>\n",
       "      <td>2378977625</td>\n",
       "      <td>239</td>\n",
       "      <td>Make up artist for film and television.  Also ...</td>\n",
       "      <td>https://twitter.com/tewillmott</td>\n",
       "    </tr>\n",
       "    <tr>\n",
       "      <th>3</th>\n",
       "      <td>0</td>\n",
       "      <td>tewillmott</td>\n",
       "      <td>2019-08-14T23:40:11+00:00</td>\n",
       "      <td>https://twitter.com/tewillmott/status/11617846...</td>\n",
       "      <td>excuse dont burn calorie fitnessmodel</td>\n",
       "      <td>1161784615822155777</td>\n",
       "      <td>NaN</td>\n",
       "      <td>NaN</td>\n",
       "      <td>NaN</td>\n",
       "      <td>NaN</td>\n",
       "      <td>NaN</td>\n",
       "      <td>2378977625</td>\n",
       "      <td>239</td>\n",
       "      <td>Make up artist for film and television.  Also ...</td>\n",
       "      <td>https://twitter.com/tewillmott</td>\n",
       "    </tr>\n",
       "    <tr>\n",
       "      <th>4</th>\n",
       "      <td>0</td>\n",
       "      <td>tewillmott</td>\n",
       "      <td>2019-08-14T23:36:21+00:00</td>\n",
       "      <td>https://twitter.com/tewillmott/status/11617836...</td>\n",
       "      <td>let get leg right fitnessmodel</td>\n",
       "      <td>1161783648443482112</td>\n",
       "      <td>NaN</td>\n",
       "      <td>NaN</td>\n",
       "      <td>NaN</td>\n",
       "      <td>NaN</td>\n",
       "      <td>NaN</td>\n",
       "      <td>2378977625</td>\n",
       "      <td>239</td>\n",
       "      <td>Make up artist for film and television.  Also ...</td>\n",
       "      <td>https://twitter.com/tewillmott</td>\n",
       "    </tr>\n",
       "  </tbody>\n",
       "</table>\n",
       "</div>"
      ],
      "text/plain": [
       "   Period    Username                       Date  \\\n",
       "0       0  tewillmott  2019-08-14T23:59:42+00:00   \n",
       "1       0  tewillmott  2019-08-14T23:50:39+00:00   \n",
       "2       0  tewillmott  2019-08-14T23:45:06+00:00   \n",
       "3       0  tewillmott  2019-08-14T23:40:11+00:00   \n",
       "4       0  tewillmott  2019-08-14T23:36:21+00:00   \n",
       "\n",
       "                                                 URL  \\\n",
       "0  https://twitter.com/tewillmott/status/11617895...   \n",
       "1  https://twitter.com/tewillmott/status/11617872...   \n",
       "2  https://twitter.com/tewillmott/status/11617858...   \n",
       "3  https://twitter.com/tewillmott/status/11617846...   \n",
       "4  https://twitter.com/tewillmott/status/11617836...   \n",
       "\n",
       "                                 Content              TweetID MentionedUsers  \\\n",
       "0  motivation sweat today smile tomorrow  1161789524902440960            NaN   \n",
       "1                          time kill fat  1161787246460096512            NaN   \n",
       "2                    challenge every day  1161785852357308416            NaN   \n",
       "3  excuse dont burn calorie fitnessmodel  1161784615822155777            NaN   \n",
       "4         let get leg right fitnessmodel  1161783648443482112            NaN   \n",
       "\n",
       "   Longitude  Latitude CountryCode Place      UserID  FollowersCount  \\\n",
       "0        NaN       NaN         NaN   NaN  2378977625             239   \n",
       "1        NaN       NaN         NaN   NaN  2378977625             239   \n",
       "2        NaN       NaN         NaN   NaN  2378977625             239   \n",
       "3        NaN       NaN         NaN   NaN  2378977625             239   \n",
       "4        NaN       NaN         NaN   NaN  2378977625             239   \n",
       "\n",
       "                                     UserDescription  \\\n",
       "0  Make up artist for film and television.  Also ...   \n",
       "1  Make up artist for film and television.  Also ...   \n",
       "2  Make up artist for film and television.  Also ...   \n",
       "3  Make up artist for film and television.  Also ...   \n",
       "4  Make up artist for film and television.  Also ...   \n",
       "\n",
       "                          UserURL  \n",
       "0  https://twitter.com/tewillmott  \n",
       "1  https://twitter.com/tewillmott  \n",
       "2  https://twitter.com/tewillmott  \n",
       "3  https://twitter.com/tewillmott  \n",
       "4  https://twitter.com/tewillmott  "
      ]
     },
     "execution_count": 34,
     "metadata": {},
     "output_type": "execute_result"
    }
   ],
   "source": [
    "# read csv\n",
    "df_clean = pd.read_csv(data_path + \"/clean_data.csv\")\n",
    "\n",
    "df_clean.head()"
   ]
  },
  {
   "attachments": {},
   "cell_type": "markdown",
   "metadata": {},
   "source": [
    "## Sentiment Analysis"
   ]
  },
  {
   "cell_type": "code",
   "execution_count": 35,
   "metadata": {},
   "outputs": [],
   "source": [
    "# Download VADER lexicon\n",
    "# nltk.download('vader_lexicon')\n",
    "\n",
    "# Initialize VADER analyzer\n",
    "sid = SentimentIntensityAnalyzer()"
   ]
  },
  {
   "cell_type": "code",
   "execution_count": 36,
   "metadata": {},
   "outputs": [],
   "source": [
    "# Define a function to apply the analyzer to each tweet and return the sentiment score\n",
    "def get_sentiment_score(tweet):\n",
    "    scores = sid.polarity_scores(tweet)\n",
    "    return scores['compound']\n",
    "\n",
    "# Apply the function to each tweet in the dataset and add the sentiment score as a new column\n",
    "df_clean['sentiment_score'] = df_clean['Content'].apply(get_sentiment_score)"
   ]
  },
  {
   "cell_type": "code",
   "execution_count": 37,
   "metadata": {},
   "outputs": [],
   "source": [
    "# Define a function to label each tweet as positive, negative, or neutral based on the sentiment score\n",
    "def get_sentiment_label(score):\n",
    "    if score > 0:\n",
    "        return 'positive'\n",
    "    elif score < 0:\n",
    "        return 'negative'\n",
    "    else:\n",
    "        return 'neutral'\n",
    "\n",
    "# Apply the function to each sentiment score and add the sentiment label as a new column\n",
    "df_clean['sentiment_label'] = df_clean['sentiment_score'].apply(get_sentiment_label)"
   ]
  },
  {
   "cell_type": "code",
   "execution_count": 38,
   "metadata": {},
   "outputs": [
    {
     "data": {
      "text/html": [
       "<div>\n",
       "<style scoped>\n",
       "    .dataframe tbody tr th:only-of-type {\n",
       "        vertical-align: middle;\n",
       "    }\n",
       "\n",
       "    .dataframe tbody tr th {\n",
       "        vertical-align: top;\n",
       "    }\n",
       "\n",
       "    .dataframe thead th {\n",
       "        text-align: right;\n",
       "    }\n",
       "</style>\n",
       "<table border=\"1\" class=\"dataframe\">\n",
       "  <thead>\n",
       "    <tr style=\"text-align: right;\">\n",
       "      <th></th>\n",
       "      <th>Period</th>\n",
       "      <th>Username</th>\n",
       "      <th>Date</th>\n",
       "      <th>URL</th>\n",
       "      <th>Content</th>\n",
       "      <th>TweetID</th>\n",
       "      <th>MentionedUsers</th>\n",
       "      <th>Longitude</th>\n",
       "      <th>Latitude</th>\n",
       "      <th>CountryCode</th>\n",
       "      <th>Place</th>\n",
       "      <th>UserID</th>\n",
       "      <th>FollowersCount</th>\n",
       "      <th>UserDescription</th>\n",
       "      <th>UserURL</th>\n",
       "      <th>sentiment_score</th>\n",
       "      <th>sentiment_label</th>\n",
       "    </tr>\n",
       "  </thead>\n",
       "  <tbody>\n",
       "    <tr>\n",
       "      <th>0</th>\n",
       "      <td>0</td>\n",
       "      <td>tewillmott</td>\n",
       "      <td>2019-08-14T23:59:42+00:00</td>\n",
       "      <td>https://twitter.com/tewillmott/status/11617895...</td>\n",
       "      <td>motivation sweat today smile tomorrow</td>\n",
       "      <td>1161789524902440960</td>\n",
       "      <td>NaN</td>\n",
       "      <td>NaN</td>\n",
       "      <td>NaN</td>\n",
       "      <td>NaN</td>\n",
       "      <td>NaN</td>\n",
       "      <td>2378977625</td>\n",
       "      <td>239</td>\n",
       "      <td>Make up artist for film and television.  Also ...</td>\n",
       "      <td>https://twitter.com/tewillmott</td>\n",
       "      <td>0.5994</td>\n",
       "      <td>positive</td>\n",
       "    </tr>\n",
       "    <tr>\n",
       "      <th>1</th>\n",
       "      <td>0</td>\n",
       "      <td>tewillmott</td>\n",
       "      <td>2019-08-14T23:50:39+00:00</td>\n",
       "      <td>https://twitter.com/tewillmott/status/11617872...</td>\n",
       "      <td>time kill fat</td>\n",
       "      <td>1161787246460096512</td>\n",
       "      <td>NaN</td>\n",
       "      <td>NaN</td>\n",
       "      <td>NaN</td>\n",
       "      <td>NaN</td>\n",
       "      <td>NaN</td>\n",
       "      <td>2378977625</td>\n",
       "      <td>239</td>\n",
       "      <td>Make up artist for film and television.  Also ...</td>\n",
       "      <td>https://twitter.com/tewillmott</td>\n",
       "      <td>-0.6908</td>\n",
       "      <td>negative</td>\n",
       "    </tr>\n",
       "    <tr>\n",
       "      <th>2</th>\n",
       "      <td>0</td>\n",
       "      <td>tewillmott</td>\n",
       "      <td>2019-08-14T23:45:06+00:00</td>\n",
       "      <td>https://twitter.com/tewillmott/status/11617858...</td>\n",
       "      <td>challenge every day</td>\n",
       "      <td>1161785852357308416</td>\n",
       "      <td>NaN</td>\n",
       "      <td>NaN</td>\n",
       "      <td>NaN</td>\n",
       "      <td>NaN</td>\n",
       "      <td>NaN</td>\n",
       "      <td>2378977625</td>\n",
       "      <td>239</td>\n",
       "      <td>Make up artist for film and television.  Also ...</td>\n",
       "      <td>https://twitter.com/tewillmott</td>\n",
       "      <td>0.0772</td>\n",
       "      <td>positive</td>\n",
       "    </tr>\n",
       "    <tr>\n",
       "      <th>3</th>\n",
       "      <td>0</td>\n",
       "      <td>tewillmott</td>\n",
       "      <td>2019-08-14T23:40:11+00:00</td>\n",
       "      <td>https://twitter.com/tewillmott/status/11617846...</td>\n",
       "      <td>excuse dont burn calorie fitnessmodel</td>\n",
       "      <td>1161784615822155777</td>\n",
       "      <td>NaN</td>\n",
       "      <td>NaN</td>\n",
       "      <td>NaN</td>\n",
       "      <td>NaN</td>\n",
       "      <td>NaN</td>\n",
       "      <td>2378977625</td>\n",
       "      <td>239</td>\n",
       "      <td>Make up artist for film and television.  Also ...</td>\n",
       "      <td>https://twitter.com/tewillmott</td>\n",
       "      <td>0.0772</td>\n",
       "      <td>positive</td>\n",
       "    </tr>\n",
       "    <tr>\n",
       "      <th>4</th>\n",
       "      <td>0</td>\n",
       "      <td>tewillmott</td>\n",
       "      <td>2019-08-14T23:36:21+00:00</td>\n",
       "      <td>https://twitter.com/tewillmott/status/11617836...</td>\n",
       "      <td>let get leg right fitnessmodel</td>\n",
       "      <td>1161783648443482112</td>\n",
       "      <td>NaN</td>\n",
       "      <td>NaN</td>\n",
       "      <td>NaN</td>\n",
       "      <td>NaN</td>\n",
       "      <td>NaN</td>\n",
       "      <td>2378977625</td>\n",
       "      <td>239</td>\n",
       "      <td>Make up artist for film and television.  Also ...</td>\n",
       "      <td>https://twitter.com/tewillmott</td>\n",
       "      <td>0.0000</td>\n",
       "      <td>neutral</td>\n",
       "    </tr>\n",
       "  </tbody>\n",
       "</table>\n",
       "</div>"
      ],
      "text/plain": [
       "   Period    Username                       Date  \\\n",
       "0       0  tewillmott  2019-08-14T23:59:42+00:00   \n",
       "1       0  tewillmott  2019-08-14T23:50:39+00:00   \n",
       "2       0  tewillmott  2019-08-14T23:45:06+00:00   \n",
       "3       0  tewillmott  2019-08-14T23:40:11+00:00   \n",
       "4       0  tewillmott  2019-08-14T23:36:21+00:00   \n",
       "\n",
       "                                                 URL  \\\n",
       "0  https://twitter.com/tewillmott/status/11617895...   \n",
       "1  https://twitter.com/tewillmott/status/11617872...   \n",
       "2  https://twitter.com/tewillmott/status/11617858...   \n",
       "3  https://twitter.com/tewillmott/status/11617846...   \n",
       "4  https://twitter.com/tewillmott/status/11617836...   \n",
       "\n",
       "                                 Content              TweetID MentionedUsers  \\\n",
       "0  motivation sweat today smile tomorrow  1161789524902440960            NaN   \n",
       "1                          time kill fat  1161787246460096512            NaN   \n",
       "2                    challenge every day  1161785852357308416            NaN   \n",
       "3  excuse dont burn calorie fitnessmodel  1161784615822155777            NaN   \n",
       "4         let get leg right fitnessmodel  1161783648443482112            NaN   \n",
       "\n",
       "   Longitude  Latitude CountryCode Place      UserID  FollowersCount  \\\n",
       "0        NaN       NaN         NaN   NaN  2378977625             239   \n",
       "1        NaN       NaN         NaN   NaN  2378977625             239   \n",
       "2        NaN       NaN         NaN   NaN  2378977625             239   \n",
       "3        NaN       NaN         NaN   NaN  2378977625             239   \n",
       "4        NaN       NaN         NaN   NaN  2378977625             239   \n",
       "\n",
       "                                     UserDescription  \\\n",
       "0  Make up artist for film and television.  Also ...   \n",
       "1  Make up artist for film and television.  Also ...   \n",
       "2  Make up artist for film and television.  Also ...   \n",
       "3  Make up artist for film and television.  Also ...   \n",
       "4  Make up artist for film and television.  Also ...   \n",
       "\n",
       "                          UserURL  sentiment_score sentiment_label  \n",
       "0  https://twitter.com/tewillmott           0.5994        positive  \n",
       "1  https://twitter.com/tewillmott          -0.6908        negative  \n",
       "2  https://twitter.com/tewillmott           0.0772        positive  \n",
       "3  https://twitter.com/tewillmott           0.0772        positive  \n",
       "4  https://twitter.com/tewillmott           0.0000         neutral  "
      ]
     },
     "execution_count": 38,
     "metadata": {},
     "output_type": "execute_result"
    }
   ],
   "source": [
    "df_clean.head()"
   ]
  },
  {
   "cell_type": "code",
   "execution_count": 42,
   "metadata": {},
   "outputs": [
    {
     "data": {
      "text/plain": [
       "count    11961.000000\n",
       "mean         0.220345\n",
       "std          0.362536\n",
       "min         -0.942300\n",
       "25%          0.000000\n",
       "50%          0.000000\n",
       "75%          0.510600\n",
       "max          0.991100\n",
       "Name: sentiment_score, dtype: float64"
      ]
     },
     "execution_count": 42,
     "metadata": {},
     "output_type": "execute_result"
    }
   ],
   "source": [
    "df_clean[df_clean['Period'] == 0].sentiment_score.describe()"
   ]
  },
  {
   "cell_type": "code",
   "execution_count": 43,
   "metadata": {},
   "outputs": [
    {
     "data": {
      "text/plain": [
       "count    6071.000000\n",
       "mean        0.209718\n",
       "std         0.357862\n",
       "min        -0.946800\n",
       "25%         0.000000\n",
       "50%         0.000000\n",
       "75%         0.493900\n",
       "max         0.979600\n",
       "Name: sentiment_score, dtype: float64"
      ]
     },
     "execution_count": 43,
     "metadata": {},
     "output_type": "execute_result"
    }
   ],
   "source": [
    "df_clean[df_clean['Period'] == 1].sentiment_score.describe()"
   ]
  },
  {
   "cell_type": "code",
   "execution_count": 44,
   "metadata": {},
   "outputs": [
    {
     "data": {
      "text/plain": [
       "count    1409.000000\n",
       "mean        0.231629\n",
       "std         0.381496\n",
       "min        -0.902200\n",
       "25%         0.000000\n",
       "50%         0.051600\n",
       "75%         0.571900\n",
       "max         0.975300\n",
       "Name: sentiment_score, dtype: float64"
      ]
     },
     "execution_count": 44,
     "metadata": {},
     "output_type": "execute_result"
    }
   ],
   "source": [
    "df_clean[df_clean['Period'] == 2].sentiment_score.describe()"
   ]
  },
  {
   "attachments": {},
   "cell_type": "markdown",
   "metadata": {},
   "source": [
    "Based on the descriptive data above, we can observe that the mean compound score of sentiment is highest for late-pandemic fitpiration tweets, followed by pre-pandemic and then early-pandemic. This suggests that, on average, late-pandemic fitpiration tweets are more positive than pre-pandemic ones, with early-pandemic tweets being the least optimistic."
   ]
  },
  {
   "cell_type": "code",
   "execution_count": 59,
   "metadata": {},
   "outputs": [
    {
     "data": {
      "image/png": "[encoded data removed]",
      "text/plain": [
       "<Figure size 640x480 with 1 Axes>"
      ]
     },
     "metadata": {},
     "output_type": "display_data"
    }
   ],
   "source": [
    "# Create a box plot to compare the three groups\n",
    "sns.set_style(\"ticks\")\n",
    "ax = sns.boxplot(x='Period', y='sentiment_score', data=df_clean)\n",
    "sns.despine(trim=True)\n",
    "sns.set_palette(\"Set2\")\n",
    "\n",
    "# Set the x-axis tick labels\n",
    "ax.set_xticklabels(['Pre-pandemic', 'Early-pandemic', 'Late-pandemic'])\n",
    "\n",
    "# Add a title and axis labels\n",
    "plt.title('Comparison of Sentiment Scores between Three Periods', fontsize=14)\n",
    "plt.xlabel('Period', fontsize=12)\n",
    "plt.ylabel('Sentiment Score', fontsize=12)\n",
    "\n",
    "# Save the figure\n",
    "plt.savefig('sentiment_scores.png', dpi=300, bbox_inches='tight')\n",
    "\n",
    "# Show the plot\n",
    "plt.show()"
   ]
  },
  {
   "attachments": {},
   "cell_type": "markdown",
   "metadata": {},
   "source": [
    "ANOVA (Analysis of Variance) test to determine whether there is a statistically significant difference between the three groups"
   ]
  },
  {
   "cell_type": "code",
   "execution_count": 60,
   "metadata": {},
   "outputs": [
    {
     "name": "stdout",
     "output_type": "stream",
     "text": [
      "F-statistic: 2.8289735993699754\n",
      "p-value: 0.05909777784306111\n"
     ]
    }
   ],
   "source": [
    "# Extract the sentiment scores for each period\n",
    "period_0 = df_clean[df_clean['Period'] == 0]['sentiment_score']\n",
    "period_1 = df_clean[df_clean['Period'] == 1]['sentiment_score']\n",
    "period_2 = df_clean[df_clean['Period'] == 2]['sentiment_score']\n",
    "\n",
    "# Perform an ANOVA test\n",
    "f_stat, p_value = f_oneway(period_0, period_1, period_2)\n",
    "\n",
    "print(\"F-statistic:\", f_stat)\n",
    "print(\"p-value:\", p_value)"
   ]
  },
  {
   "attachments": {},
   "cell_type": "markdown",
   "metadata": {},
   "source": [
    "p-value is right on edge of the chosen significance level (0.05). Therefore, I performed post-hoc tests (Tukey's HSD) to determine which pairs of groups have a significant difference in means."
   ]
  },
  {
   "cell_type": "code",
   "execution_count": 67,
   "metadata": {},
   "outputs": [
    {
     "name": "stdout",
     "output_type": "stream",
     "text": [
      "Multiple Comparison of Means - Tukey HSD, FWER=0.05\n",
      "===================================================\n",
      "group1 group2 meandiff p-adj   lower  upper  reject\n",
      "---------------------------------------------------\n",
      "   0.0    1.0  -0.0106 0.1504  -0.024 0.0028  False\n",
      "   0.0    2.0   0.0113 0.5109 -0.0126 0.0352  False\n",
      "   1.0    2.0   0.0219 0.1019 -0.0032  0.047  False\n",
      "---------------------------------------------------\n"
     ]
    }
   ],
   "source": [
    "# Define the groups to compare\n",
    "groups = [0, 1, 2]\n",
    "\n",
    "# Create a list of Series—the sentiment scores for each group\n",
    "data = [df_clean[df_clean['Period'] == i]['sentiment_score'] for i in groups]\n",
    "\n",
    "# Perform Tukey's HSD test\n",
    "tukey = mc.MultiComparison(np.concatenate(data), \n",
    "                           np.concatenate([np.zeros(len(data[i])) + i \n",
    "                                           for i in range(len(data))]))\n",
    "result = tukey.tukeyhsd()\n",
    "\n",
    "# Print the results\n",
    "print(result)"
   ]
  },
  {
   "attachments": {},
   "cell_type": "markdown",
   "metadata": {},
   "source": [
    "The Tukey HSD test has found that there is no significant difference between groups 0 and 1 (p-adj = 0.1504), no significant difference between groups 0 and 2 (p-adj = 0.5109), and no significant difference between groups 1 and 2 (p-adj = 0.1019)."
   ]
  }
 ],
 "metadata": {
  "kernelspec": {
   "display_name": "nlp",
   "language": "python",
   "name": "python3"
  },
  "language_info": {
   "codemirror_mode": {
    "name": "ipython",
    "version": 3
   },
   "file_extension": ".py",
   "mimetype": "text/x-python",
   "name": "python",
   "nbconvert_exporter": "python",
   "pygments_lexer": "ipython3",
   "version": "3.9.13"
  },
  "orig_nbformat": 4
 },
 "nbformat": 4,
 "nbformat_minor": 2
}
