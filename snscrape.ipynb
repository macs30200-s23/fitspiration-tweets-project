{
 "cells": [
  {
   "cell_type": "code",
   "execution_count": 3,
   "metadata": {},
   "outputs": [],
   "source": [
    "import subprocess\n",
    "import json\n",
    "import snscrape"
   ]
  },
  {
   "cell_type": "code",
   "execution_count": 8,
   "metadata": {},
   "outputs": [],
   "source": [
    "# Define the hashtag and timeframe\n",
    "hashtag = \"fitspo\"\n",
    "language = 'en'\n",
    "place = 'usa'\n",
    "start_date = \"2019-01-01\"\n",
    "end_date = \"2020-02-28\""
   ]
  },
  {
   "attachments": {},
   "cell_type": "markdown",
   "metadata": {},
   "source": [
    "### most recent"
   ]
  },
  {
   "cell_type": "code",
   "execution_count": 10,
   "metadata": {},
   "outputs": [],
   "source": [
    "# Define the snscrape command\n",
    "command = f'snscrape --jsonl --max-results 100 twitter-hashtag \"{hashtag} lang:{language} place:{place} since:{start_date} until:{end_date}\"'\n",
    "\n",
    "# Run the snscrape command and capture the output\n",
    "output = subprocess.check_output(command, shell=True)\n",
    "\n",
    "# Decode the JSON output\n",
    "tweets = [json.loads(line) for line in output.splitlines()]"
   ]
  },
  {
   "cell_type": "code",
   "execution_count": 6,
   "metadata": {},
   "outputs": [
    {
     "name": "stdout",
     "output_type": "stream",
     "text": [
      "2020-02-27T23:52:16+00:00\n",
      "2020-02-27T23:38:13+00:00\n",
      "2020-02-27T23:29:49+00:00\n",
      "2020-02-27T23:28:59+00:00\n",
      "2020-02-27T23:13:19+00:00\n",
      "2020-02-27T23:12:45+00:00\n",
      "2020-02-27T23:04:26+00:00\n",
      "2020-02-27T23:04:07+00:00\n",
      "2020-02-27T23:03:24+00:00\n",
      "2020-02-27T22:57:15+00:00\n",
      "2020-02-27T22:50:55+00:00\n",
      "2020-02-27T22:43:03+00:00\n",
      "2020-02-27T22:34:19+00:00\n",
      "2020-02-27T22:32:35+00:00\n",
      "2020-02-27T22:15:01+00:00\n",
      "2020-02-27T22:08:54+00:00\n",
      "2020-02-27T22:02:29+00:00\n",
      "2020-02-27T21:58:59+00:00\n",
      "2020-02-27T21:58:53+00:00\n",
      "2020-02-27T21:58:53+00:00\n",
      "2020-02-27T21:50:42+00:00\n",
      "2020-02-27T21:35:55+00:00\n",
      "2020-02-27T21:34:11+00:00\n",
      "2020-02-27T21:30:23+00:00\n",
      "2020-02-27T21:28:53+00:00\n",
      "2020-02-27T21:24:37+00:00\n",
      "2020-02-27T21:21:29+00:00\n",
      "2020-02-27T21:16:07+00:00\n",
      "2020-02-27T21:12:35+00:00\n",
      "2020-02-27T20:53:34+00:00\n",
      "2020-02-27T20:40:45+00:00\n",
      "2020-02-27T20:39:20+00:00\n",
      "2020-02-27T20:36:34+00:00\n",
      "2020-02-27T20:30:50+00:00\n",
      "2020-02-27T20:30:04+00:00\n",
      "2020-02-27T20:26:00+00:00\n",
      "2020-02-27T19:54:48+00:00\n",
      "2020-02-27T19:53:27+00:00\n",
      "2020-02-27T19:50:59+00:00\n",
      "2020-02-27T19:48:20+00:00\n",
      "2020-02-27T19:48:10+00:00\n",
      "2020-02-27T19:31:07+00:00\n",
      "2020-02-27T19:13:31+00:00\n",
      "2020-02-27T19:08:32+00:00\n",
      "2020-02-27T18:52:20+00:00\n",
      "2020-02-27T18:34:41+00:00\n",
      "2020-02-27T18:31:18+00:00\n",
      "2020-02-27T18:20:05+00:00\n",
      "2020-02-27T18:13:08+00:00\n",
      "2020-02-27T18:04:27+00:00\n",
      "2020-02-27T18:02:11+00:00\n",
      "2020-02-27T18:02:02+00:00\n",
      "2020-02-27T18:01:35+00:00\n",
      "2020-02-27T17:59:14+00:00\n",
      "2020-02-27T17:50:04+00:00\n",
      "2020-02-27T17:42:43+00:00\n",
      "2020-02-27T17:41:52+00:00\n",
      "2020-02-27T17:40:47+00:00\n",
      "2020-02-27T17:40:05+00:00\n",
      "2020-02-27T17:36:55+00:00\n",
      "2020-02-27T17:28:07+00:00\n",
      "2020-02-27T17:21:46+00:00\n",
      "2020-02-27T17:10:48+00:00\n",
      "2020-02-27T17:01:54+00:00\n",
      "2020-02-27T17:00:05+00:00\n",
      "2020-02-27T16:52:07+00:00\n",
      "2020-02-27T16:40:05+00:00\n",
      "2020-02-27T16:18:50+00:00\n",
      "2020-02-27T16:18:18+00:00\n",
      "2020-02-27T16:15:55+00:00\n",
      "2020-02-27T16:08:45+00:00\n",
      "2020-02-27T16:08:00+00:00\n",
      "2020-02-27T16:05:07+00:00\n",
      "2020-02-27T16:02:20+00:00\n",
      "2020-02-27T15:55:34+00:00\n",
      "2020-02-27T15:51:06+00:00\n",
      "2020-02-27T15:50:39+00:00\n",
      "2020-02-27T15:45:23+00:00\n",
      "2020-02-27T15:42:09+00:00\n",
      "2020-02-27T15:37:06+00:00\n",
      "2020-02-27T15:30:24+00:00\n",
      "2020-02-27T15:05:04+00:00\n",
      "2020-02-27T15:04:39+00:00\n",
      "2020-02-27T15:00:41+00:00\n",
      "2020-02-27T15:00:23+00:00\n",
      "2020-02-27T14:58:05+00:00\n",
      "2020-02-27T14:49:29+00:00\n",
      "2020-02-27T14:28:31+00:00\n",
      "2020-02-27T14:20:54+00:00\n",
      "2020-02-27T14:18:57+00:00\n",
      "2020-02-27T14:00:05+00:00\n",
      "2020-02-27T13:50:31+00:00\n",
      "2020-02-27T13:49:21+00:00\n",
      "2020-02-27T13:29:13+00:00\n",
      "2020-02-27T13:22:43+00:00\n",
      "2020-02-27T13:22:20+00:00\n",
      "2020-02-27T12:40:22+00:00\n",
      "2020-02-27T12:39:09+00:00\n",
      "2020-02-27T12:37:17+00:00\n",
      "2020-02-27T12:08:41+00:00\n"
     ]
    }
   ],
   "source": [
    "for t in tweets:\n",
    "    print(t['date'])"
   ]
  },
  {
   "cell_type": "code",
   "execution_count": 9,
   "metadata": {},
   "outputs": [
    {
     "data": {
      "text/plain": [
       "{'_type': 'snscrape.modules.twitter.Tweet',\n",
       " 'url': 'https://twitter.com/MyLifeinZen1/status/1476702314899542031',\n",
       " 'date': '2021-12-30T23:50:42+00:00',\n",
       " 'rawContent': '#healthygirl #fitspo 25 Colors Professional Shimmer Palette https://t.co/WvmoXEobGL https://t.co/p0SlxDiozn',\n",
       " 'renderedContent': '#healthygirl #fitspo 25 Colors Professional Shimmer Palette mylifeinzen.com/25-colors-prof… https://t.co/p0SlxDiozn',\n",
       " 'id': 1476702314899542031,\n",
       " 'user': {'_type': 'snscrape.modules.twitter.User',\n",
       "  'username': 'MyLifeinZen1',\n",
       "  'id': 1185107601652174849,\n",
       "  'displayname': 'My Life in Zen',\n",
       "  'rawDescription': 'Great selection of Health & Beauty Supplies at affordable prices! Free shipping to 185 countries. 45 days money back guarantee. Friendly customer service.',\n",
       "  'renderedDescription': 'Great selection of Health & Beauty Supplies at affordable prices! Free shipping to 185 countries. 45 days money back guarantee. Friendly customer service.',\n",
       "  'descriptionLinks': None,\n",
       "  'verified': False,\n",
       "  'created': '2019-10-18T08:17:33+00:00',\n",
       "  'followersCount': 112,\n",
       "  'friendsCount': 43,\n",
       "  'statusesCount': 21534,\n",
       "  'favouritesCount': 1,\n",
       "  'listedCount': 1,\n",
       "  'mediaCount': 21534,\n",
       "  'location': '',\n",
       "  'protected': False,\n",
       "  'link': {'_type': 'snscrape.modules.twitter.TextLink',\n",
       "   'text': 'mylifeinzen.com',\n",
       "   'url': 'https://mylifeinzen.com/',\n",
       "   'tcourl': 'https://t.co/eLy9hrqtnQ',\n",
       "   'indices': [0, 23]},\n",
       "  'profileImageUrl': 'https://pbs.twimg.com/profile_images/1191553582182666241/HTYwVseQ_normal.png',\n",
       "  'profileBannerUrl': 'https://pbs.twimg.com/profile_banners/1185107601652174849/1572923488',\n",
       "  'label': None,\n",
       "  'description': 'Great selection of Health & Beauty Supplies at affordable prices! Free shipping to 185 countries. 45 days money back guarantee. Friendly customer service.',\n",
       "  'descriptionUrls': None,\n",
       "  'linkTcourl': 'https://t.co/eLy9hrqtnQ',\n",
       "  'linkUrl': 'https://mylifeinzen.com/',\n",
       "  'url': 'https://twitter.com/MyLifeinZen1'},\n",
       " 'replyCount': 0,\n",
       " 'retweetCount': 0,\n",
       " 'likeCount': 0,\n",
       " 'quoteCount': 0,\n",
       " 'conversationId': 1476702314899542031,\n",
       " 'lang': 'fr',\n",
       " 'source': '<a href=\"https://socialrabbitplugin.com/\" rel=\"nofollow\">SocialRabbit Plugin</a>',\n",
       " 'sourceUrl': 'https://socialrabbitplugin.com/',\n",
       " 'sourceLabel': 'SocialRabbit Plugin',\n",
       " 'links': [{'_type': 'snscrape.modules.twitter.TextLink',\n",
       "   'text': 'mylifeinzen.com/25-colors-prof…',\n",
       "   'url': 'https://mylifeinzen.com/25-colors-professional-shimmer-palette/',\n",
       "   'tcourl': 'https://t.co/WvmoXEobGL',\n",
       "   'indices': [60, 83]}],\n",
       " 'media': [{'_type': 'snscrape.modules.twitter.Photo',\n",
       "   'previewUrl': 'https://pbs.twimg.com/media/FH5M7glVkBoY1J7?format=jpg&name=small',\n",
       "   'fullUrl': 'https://pbs.twimg.com/media/FH5M7glVkBoY1J7?format=jpg&name=orig',\n",
       "   'altText': None}],\n",
       " 'retweetedTweet': None,\n",
       " 'quotedTweet': None,\n",
       " 'inReplyToTweetId': None,\n",
       " 'inReplyToUser': None,\n",
       " 'mentionedUsers': None,\n",
       " 'coordinates': None,\n",
       " 'place': None,\n",
       " 'hashtags': ['healthygirl', 'fitspo'],\n",
       " 'cashtags': None,\n",
       " 'card': None,\n",
       " 'viewCount': None,\n",
       " 'vibe': None,\n",
       " 'content': '#healthygirl #fitspo 25 Colors Professional Shimmer Palette https://t.co/WvmoXEobGL https://t.co/p0SlxDiozn',\n",
       " 'outlinks': ['https://mylifeinzen.com/25-colors-professional-shimmer-palette/'],\n",
       " 'outlinksss': 'https://mylifeinzen.com/25-colors-professional-shimmer-palette/',\n",
       " 'tcooutlinks': ['https://t.co/WvmoXEobGL'],\n",
       " 'tcooutlinksss': 'https://t.co/WvmoXEobGL',\n",
       " 'username': 'MyLifeinZen1'}"
      ]
     },
     "execution_count": 9,
     "metadata": {},
     "output_type": "execute_result"
    }
   ],
   "source": [
    "tweets[0]"
   ]
  },
  {
   "cell_type": "code",
   "execution_count": 11,
   "metadata": {},
   "outputs": [
    {
     "data": {
      "text/plain": [
       "'https://twitter.com/MyLifeinZen1/status/1476702314899542031'"
      ]
     },
     "execution_count": 11,
     "metadata": {},
     "output_type": "execute_result"
    }
   ],
   "source": [
    "tweets[0]['url']"
   ]
  },
  {
   "cell_type": "code",
   "execution_count": 12,
   "metadata": {},
   "outputs": [
    {
     "data": {
      "text/plain": [
       "'#healthygirl #fitspo 25 Colors Professional Shimmer Palette https://t.co/WvmoXEobGL https://t.co/p0SlxDiozn'"
      ]
     },
     "execution_count": 12,
     "metadata": {},
     "output_type": "execute_result"
    }
   ],
   "source": [
    "tweets[0]['rawContent']"
   ]
  },
  {
   "cell_type": "code",
   "execution_count": 10,
   "metadata": {},
   "outputs": [
    {
     "data": {
      "text/plain": [
       "'2021-12-30T23:50:42+00:00'"
      ]
     },
     "execution_count": 10,
     "metadata": {},
     "output_type": "execute_result"
    }
   ],
   "source": [
    "tweets[0]['date']"
   ]
  },
  {
   "cell_type": "code",
   "execution_count": 15,
   "metadata": {},
   "outputs": [
    {
     "data": {
      "text/plain": [
       "1476702314899542031"
      ]
     },
     "execution_count": 15,
     "metadata": {},
     "output_type": "execute_result"
    }
   ],
   "source": [
    "tweets[0]['id']"
   ]
  },
  {
   "cell_type": "code",
   "execution_count": 16,
   "metadata": {},
   "outputs": [
    {
     "data": {
      "text/plain": [
       "{'_type': 'snscrape.modules.twitter.User',\n",
       " 'username': 'MyLifeinZen1',\n",
       " 'id': 1185107601652174849,\n",
       " 'displayname': 'My Life in Zen',\n",
       " 'rawDescription': 'Great selection of Health & Beauty Supplies at affordable prices! Free shipping to 185 countries. 45 days money back guarantee. Friendly customer service.',\n",
       " 'renderedDescription': 'Great selection of Health & Beauty Supplies at affordable prices! Free shipping to 185 countries. 45 days money back guarantee. Friendly customer service.',\n",
       " 'descriptionLinks': None,\n",
       " 'verified': False,\n",
       " 'created': '2019-10-18T08:17:33+00:00',\n",
       " 'followersCount': 112,\n",
       " 'friendsCount': 43,\n",
       " 'statusesCount': 21534,\n",
       " 'favouritesCount': 1,\n",
       " 'listedCount': 1,\n",
       " 'mediaCount': 21534,\n",
       " 'location': '',\n",
       " 'protected': False,\n",
       " 'link': {'_type': 'snscrape.modules.twitter.TextLink',\n",
       "  'text': 'mylifeinzen.com',\n",
       "  'url': 'https://mylifeinzen.com/',\n",
       "  'tcourl': 'https://t.co/eLy9hrqtnQ',\n",
       "  'indices': [0, 23]},\n",
       " 'profileImageUrl': 'https://pbs.twimg.com/profile_images/1191553582182666241/HTYwVseQ_normal.png',\n",
       " 'profileBannerUrl': 'https://pbs.twimg.com/profile_banners/1185107601652174849/1572923488',\n",
       " 'label': None,\n",
       " 'description': 'Great selection of Health & Beauty Supplies at affordable prices! Free shipping to 185 countries. 45 days money back guarantee. Friendly customer service.',\n",
       " 'descriptionUrls': None,\n",
       " 'linkTcourl': 'https://t.co/eLy9hrqtnQ',\n",
       " 'linkUrl': 'https://mylifeinzen.com/',\n",
       " 'url': 'https://twitter.com/MyLifeinZen1'}"
      ]
     },
     "execution_count": 16,
     "metadata": {},
     "output_type": "execute_result"
    }
   ],
   "source": [
    "tweets[0]['user']"
   ]
  },
  {
   "cell_type": "code",
   "execution_count": 17,
   "metadata": {},
   "outputs": [
    {
     "data": {
      "text/plain": [
       "1185107601652174849"
      ]
     },
     "execution_count": 17,
     "metadata": {},
     "output_type": "execute_result"
    }
   ],
   "source": [
    "tweets[0]['user']['id']"
   ]
  },
  {
   "cell_type": "code",
   "execution_count": 14,
   "metadata": {},
   "outputs": [
    {
     "data": {
      "text/plain": [
       "112"
      ]
     },
     "execution_count": 14,
     "metadata": {},
     "output_type": "execute_result"
    }
   ],
   "source": [
    "tweets[0]['user']['followersCount']"
   ]
  },
  {
   "cell_type": "code",
   "execution_count": 18,
   "metadata": {},
   "outputs": [
    {
     "data": {
      "text/plain": [
       "'Great selection of Health & Beauty Supplies at affordable prices! Free shipping to 185 countries. 45 days money back guarantee. Friendly customer service.'"
      ]
     },
     "execution_count": 18,
     "metadata": {},
     "output_type": "execute_result"
    }
   ],
   "source": [
    "tweets[0]['user']['description']"
   ]
  },
  {
   "cell_type": "code",
   "execution_count": null,
   "metadata": {},
   "outputs": [],
   "source": [
    "# Print the text of each tweet\n",
    "for tweet in tweets:\n",
    "    print(tweet['content']['text'])"
   ]
  }
 ],
 "metadata": {
  "kernelspec": {
   "display_name": "nlp",
   "language": "python",
   "name": "python3"
  },
  "language_info": {
   "codemirror_mode": {
    "name": "ipython",
    "version": 3
   },
   "file_extension": ".py",
   "mimetype": "text/x-python",
   "name": "python",
   "nbconvert_exporter": "python",
   "pygments_lexer": "ipython3",
   "version": "3.9.13"
  },
  "orig_nbformat": 4
 },
 "nbformat": 4,
 "nbformat_minor": 2
}
