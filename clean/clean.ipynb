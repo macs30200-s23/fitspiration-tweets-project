{
 "cells": [
  {
   "cell_type": "code",
   "execution_count": 1,
   "metadata": {},
   "outputs": [],
   "source": [
    "import os\n",
    "import sys\n",
    "sys.path.insert(0, '..')\n",
    "import utils\n",
    "import pandas as pd\n",
    "# set the display option to show full string value\n",
    "pd.set_option('display.max_colwidth', None)\n",
    "\n",
    "# text cleaning\n",
    "import re\n",
    "import emoji\n",
    "from wordsegment import load, segment\n",
    "#from nltk.corpus import stopwords\n",
    "#from nltk.tokenize import word_tokenize\n",
    "#from nltk.stem import WordNetLemmatizer"
   ]
  },
  {
   "cell_type": "code",
   "execution_count": 2,
   "metadata": {},
   "outputs": [
    {
     "data": {
      "text/plain": [
       "'/Users/jiayan/Downloads/codes_macs_2022-2023/macs30200/replication-materials-jiayanli/data'"
      ]
     },
     "execution_count": 2,
     "metadata": {},
     "output_type": "execute_result"
    }
   ],
   "source": [
    "# Get the current working directory path\n",
    "cwd = os.getcwd()\n",
    "\n",
    "# Print the updated directory path\n",
    "data_path = cwd.rstrip(\"/clean\") + \"/data\"\n",
    "data_path"
   ]
  },
  {
   "cell_type": "code",
   "execution_count": 27,
   "metadata": {},
   "outputs": [],
   "source": [
    "# read csv\n",
    "df_raw = pd.read_csv(data_path + \"/raw_data.csv\")"
   ]
  },
  {
   "attachments": {},
   "cell_type": "markdown",
   "metadata": {},
   "source": [
    "## Exploratory Data Analysis"
   ]
  },
  {
   "cell_type": "code",
   "execution_count": 28,
   "metadata": {},
   "outputs": [
    {
     "data": {
      "text/plain": [
       "(27134, 15)"
      ]
     },
     "execution_count": 28,
     "metadata": {},
     "output_type": "execute_result"
    }
   ],
   "source": [
    "df_raw.shape"
   ]
  },
  {
   "cell_type": "code",
   "execution_count": 29,
   "metadata": {},
   "outputs": [
    {
     "name": "stdout",
     "output_type": "stream",
     "text": [
      "Period                                                                                                                                                                               1\n",
      "Username                                                                                                                                                                    pdaddy1114\n",
      "Date                                                                                                                                                         2020-05-24T16:23:04+00:00\n",
      "URL                                                                                                                          https://twitter.com/pdaddy1114/status/1264592765389869059\n",
      "Content            Sunday stuff #trusttheprocess #jgsd #fundaysunday #inertiawave #inertiawaveandbosu #fitfam #fitspo #sundaystuff #keeponkeepinon #cya #imout https://t.co/bKf1rOO6Jp\n",
      "TweetID                                                                                                                                                            1264592765389869059\n",
      "MentionedUsers                                                                                                                                                                     NaN\n",
      "Longitude                                                                                                                                                                          NaN\n",
      "Latitude                                                                                                                                                                           NaN\n",
      "CountryCode                                                                                                                                                                        NaN\n",
      "Place                                                                                                                                                                              NaN\n",
      "UserID                                                                                                                                                                      2559475300\n",
      "FollowersCount                                                                                                                                                                     166\n",
      "UserDescription                                                                                                                          Just me fighting Cancer \\nCashapp $pdaddy1114\n",
      "UserURL                                                                                                                                                 https://twitter.com/pdaddy1114\n",
      "Name: 17408, dtype: object\n",
      "Period                                                                                                                                                                                                                                                       0\n",
      "Username                                                                                                                                                                                                                                          KORE_Apparel\n",
      "Date                                                                                                                                                                                                                                 2019-08-28T11:49:40+00:00\n",
      "URL                                                                                                                                                                                                https://twitter.com/KORE_Apparel/status/1166679236763164673\n",
      "Content            New Zip Ups! #fit #fitness #bodybuilding #gym #lifestyle #painisgain #wantitearnit #koreurbanapparel #morekore #fitspo #yoga #streetworkout #core #health #crossfit #movesthewayyoudo #kore #bringit #calisthenics… https://t.co/MdJWti2BRF\n",
      "TweetID                                                                                                                                                                                                                                    1166679236763164673\n",
      "MentionedUsers                                                                                                                                                                                                                                             NaN\n",
      "Longitude                                                                                                                                                                                                                                                  NaN\n",
      "Latitude                                                                                                                                                                                                                                                   NaN\n",
      "CountryCode                                                                                                                                                                                                                                                NaN\n",
      "Place                                                                                                                                                                                                                                                      NaN\n",
      "UserID                                                                                                                                                                                                                                              2967577522\n",
      "FollowersCount                                                                                                                                                                                                                                             307\n",
      "UserDescription                                                                                                                                                                                                                       etsy.com/uk/shop/KoreUr…\n",
      "UserURL                                                                                                                                                                                                                       https://twitter.com/KORE_Apparel\n",
      "Name: 12252, dtype: object\n",
      "Period                                                                                                                                                                                                                                                                                                                                                                                                                                                                                                                                                                                                                                                                                                                                                                                                                                                                                                                                                                                                                                                                                                                                                                                                                                                                                                                                                                                                                                                                                                                                                                                                                                                                                                                                                                                                                                                                                                                                   0\n",
      "Username                                                                                                                                                                                                                                                                                                                                                                                                                                                                                                                                                                                                                                                                                                                                                                                                                                                                                                                                                                                                                                                                                                                                                                                                                                                                                                                                                                                                                                                                                                                                                                                                                                                                                                                                                                                                                                                                                                                      glass_reuben\n",
      "Date                                                                                                                                                                                                                                                                                                                                                                                                                                                                                                                                                                                                                                                                                                                                                                                                                                                                                                                                                                                                                                                                                                                                                                                                                                                                                                                                                                                                                                                                                                                                                                                                                                                                                                                                                                                                                                                                                                             2019-11-19T16:59:32+00:00\n",
      "URL                                                                                                                                                                                                                                                                                                                                                                                                                                                                                                                                                                                                                                                                                                                                                                                                                                                                                                                                                                                                                                                                                                                                                                                                                                                                                                                                                                                                                                                                                                                                                                                                                                                                                                                                                                                                                                                                            https://twitter.com/glass_reuben/status/1196835410598678528\n",
      "Content                                                                                                                                                                                                                                                                                                                                                                                                                                                                                                                                                                                                                                                                                                                                                                                                                                                                                                                                                                                                                                                                                                                                                                                                                                                                                                                                                                                                                                                                                                                                                                                                                                                                                   Still making improvements...\\nLet’s outwork ourselves!!!\\n4 days out @npcnationals \\n—————\\n #teamthoroughphysiques @Daavon 💯🙌🏾💪🏽🚨\\nmemfitdre \\n#npcmensphysique #npc #fitspo #bodybuilding #gains #abs @tcurrystrength… https://t.co/bi9I3AzC9x\n",
      "TweetID                                                                                                                                                                                                                                                                                                                                                                                                                                                                                                                                                                                                                                                                                                                                                                                                                                                                                                                                                                                                                                                                                                                                                                                                                                                                                                                                                                                                                                                                                                                                                                                                                                                                                                                                                                                                                                                                                                                1196835410598678528\n",
      "MentionedUsers     [{'_type': 'snscrape.modules.twitter.User', 'username': 'NPCNationals', 'id': 882946429945348096, 'displayname': 'NPC National Championships', 'rawDescription': None, 'renderedDescription': None, 'descriptionLinks': None, 'verified': None, 'created': None, 'followersCount': None, 'friendsCount': None, 'statusesCount': None, 'favouritesCount': None, 'listedCount': None, 'mediaCount': None, 'location': None, 'protected': None, 'link': None, 'profileImageUrl': None, 'profileBannerUrl': None, 'label': None, 'description': None, 'descriptionUrls': None, 'linkTcourl': None, 'linkUrl': None, 'url': 'https://twitter.com/NPCNationals'}, {'_type': 'snscrape.modules.twitter.User', 'username': 'Daavon', 'id': 148899697, 'displayname': 'Daavon Grayson', 'rawDescription': None, 'renderedDescription': None, 'descriptionLinks': None, 'verified': None, 'created': None, 'followersCount': None, 'friendsCount': None, 'statusesCount': None, 'favouritesCount': None, 'listedCount': None, 'mediaCount': None, 'location': None, 'protected': None, 'link': None, 'profileImageUrl': None, 'profileBannerUrl': None, 'label': None, 'description': None, 'descriptionUrls': None, 'linkTcourl': None, 'linkUrl': None, 'url': 'https://twitter.com/Daavon'}, {'_type': 'snscrape.modules.twitter.User', 'username': 'tcurrystrength', 'id': 322681385, 'displayname': 'TCurry', 'rawDescription': None, 'renderedDescription': None, 'descriptionLinks': None, 'verified': None, 'created': None, 'followersCount': None, 'friendsCount': None, 'statusesCount': None, 'favouritesCount': None, 'listedCount': None, 'mediaCount': None, 'location': None, 'protected': None, 'link': None, 'profileImageUrl': None, 'profileBannerUrl': None, 'label': None, 'description': None, 'descriptionUrls': None, 'linkTcourl': None, 'linkUrl': None, 'url': 'https://twitter.com/tcurrystrength'}]\n",
      "Longitude                                                                                                                                                                                                                                                                                                                                                                                                                                                                                                                                                                                                                                                                                                                                                                                                                                                                                                                                                                                                                                                                                                                                                                                                                                                                                                                                                                                                                                                                                                                                                                                                                                                                                                                                                                                                                                                                                                                        -89.73238\n",
      "Latitude                                                                                                                                                                                                                                                                                                                                                                                                                                                                                                                                                                                                                                                                                                                                                                                                                                                                                                                                                                                                                                                                                                                                                                                                                                                                                                                                                                                                                                                                                                                                                                                                                                                                                                                                                                                                                                                                                                                          35.05281\n",
      "CountryCode                                                                                                                                                                                                                                                                                                                                                                                                                                                                                                                                                                                                                                                                                                                                                                                                                                                                                                                                                                                                                                                                                                                                                                                                                                                                                                                                                                                                                                                                                                                                                                                                                                                                                                                                                                                                                                                                                                                             US\n",
      "Place                                                                                                                                                                                                                                                                                                                                                                                                                                                                                                                                                                                                                                                                                                                                                                                                                                                                                                                                                                                                                                                                                                                                                                                                                                                                                                                                                                                                                                                                                                                                                                                                                                                                                                                                                                                                                                                                                                                     Collierville, TN\n",
      "UserID                                                                                                                                                                                                                                                                                                                                                                                                                                                                                                                                                                                                                                                                                                                                                                                                                                                                                                                                                                                                                                                                                                                                                                                                                                                                                                                                                                                                                                                                                                                                                                                                                                                                                                                                                                                                                                                                                                                  992655708343676928\n",
      "FollowersCount                                                                                                                                                                                                                                                                                                                                                                                                                                                                                                                                                                                                                                                                                                                                                                                                                                                                                                                                                                                                                                                                                                                                                                                                                                                                                                                                                                                                                                                                                                                                                                                                                                                                                                                                                                                                                                                                                                                          28\n",
      "UserDescription                                                                                                                                                                                                                                                                                                                                                                                                                                                                                                                                                                                                                                                                                                                                                                                                                                                                                                                                                                                                                                                                                                                                                                                                                                                                                                                                                                                                                                                                                                                                                                                                                                                                                                                                                                                                                                                                                                                        NaN\n",
      "UserURL                                                                                                                                                                                                                                                                                                                                                                                                                                                                                                                                                                                                                                                                                                                                                                                                                                                                                                                                                                                                                                                                                                                                                                                                                                                                                                                                                                                                                                                                                                                                                                                                                                                                                                                                                                                                                                                                                                   https://twitter.com/glass_reuben\n",
      "Name: 6858, dtype: object\n",
      "Period                                                                                                                                                                                                                                                       0\n",
      "Username                                                                                                                                                                                                                                          FlaviaCacace\n",
      "Date                                                                                                                                                                                                                                 2019-06-07T10:43:40+00:00\n",
      "URL                                                                                                                                                                                                https://twitter.com/FlaviaCacace/status/1136946821992001536\n",
      "Content            Friday Move\\n💪Ab Workout Combo💪\\n💥Strong Abs💥\\n💥Strong Core💥\\n#abworkout #gym #fitwithflavia #gymlife #workout #workoutmotivation #gymmotivation #fitness #fitlife #fitspo #coreworkout #core #abexercises #abcombo https://t.co/yAUpDy35WC\n",
      "TweetID                                                                                                                                                                                                                                    1136946821992001536\n",
      "MentionedUsers                                                                                                                                                                                                                                             NaN\n",
      "Longitude                                                                                                                                                                                                                                                  NaN\n",
      "Latitude                                                                                                                                                                                                                                                   NaN\n",
      "CountryCode                                                                                                                                                                                                                                                NaN\n",
      "Place                                                                                                                                                                                                                                                      NaN\n",
      "UserID                                                                                                                                                                                                                                               155184017\n",
      "FollowersCount                                                                                                                                                                                                                                          106975\n",
      "UserDescription                                                                               Dance is my Life..Helping Others Is my Future. Dance, Fitness & Nutrition L3 Personal Trainer NASM OPT Certified Nutritional Advisor Dance Tutor & Choreographer\n",
      "UserURL                                                                                                                                                                                                                       https://twitter.com/FlaviaCacace\n",
      "Name: 9373, dtype: object\n",
      "Period                                                                                                                                                                                                                                                                                               0\n",
      "Username                                                                                                                                                                                                                                                                                    FitnessJon\n",
      "Date                                                                                                                                                                                                                                                                         2019-05-26T15:26:10+00:00\n",
      "URL                                                                                                                                                                                                                                          https://twitter.com/FitnessJon/status/1132669260248035328\n",
      "Content            Trying something new and upping my game find out what in my new video.\\n\\n#workout #gymlife #fitspo #fitness #motivation #gymmotivation #bodybuilding #fitnessvlogger #fit #fitfam #youtuber #subscribe #jonsheppardfitness #exercise #getfit #hypertrophy\\nhttps://t.co/BwVFmIp5Ya\n",
      "TweetID                                                                                                                                                                                                                                                                            1132669260248035328\n",
      "MentionedUsers                                                                                                                                                                                                                                                                                     NaN\n",
      "Longitude                                                                                                                                                                                                                                                                                          NaN\n",
      "Latitude                                                                                                                                                                                                                                                                                           NaN\n",
      "CountryCode                                                                                                                                                                                                                                                                                        NaN\n",
      "Place                                                                                                                                                                                                                                                                                              NaN\n",
      "UserID                                                                                                                                                                                                                                                                              959281405980065792\n",
      "FollowersCount                                                                                                                                                                                                                                                                                      30\n",
      "UserDescription                                                                                                                                           Fitness in my veins, blood and sweat\\n\\nFollow me\\ninstagram.com/jon_sheppard/\\nSubscribe to my youtube channel\\nyoutube.com/channel/UC4N6M…\n",
      "UserURL                                                                                                                                                                                                                                                                 https://twitter.com/FitnessJon\n",
      "Name: 2636, dtype: object\n"
     ]
    }
   ],
   "source": [
    "# Print out the first lines \n",
    "# Period 0: pre-pandemic, 1: early-pandemic, 2: late-pandemic\n",
    "utils.show_random_5(df_raw, df_raw.columns.tolist())"
   ]
  },
  {
   "cell_type": "code",
   "execution_count": 30,
   "metadata": {},
   "outputs": [
    {
     "data": {
      "text/plain": [
       "'Tuesday—Back and Biceps 💪🏼 \\nSome plate curls as finisher.\\n.\\n.\\n.\\n.\\n.\\n.\\n.\\n.\\n#bicep #fitness #bodybuilding #gym #biceps #muscle #fitfam #fit #tricep #girlswholift #arms #back #workout #fitspo #strong #motivation… https://t.co/Bjyeya4bpU'"
      ]
     },
     "execution_count": 30,
     "metadata": {},
     "output_type": "execute_result"
    }
   ],
   "source": [
    "# Inspect an exmaple of tweet content\n",
    "df_raw['Content'][160]"
   ]
  },
  {
   "attachments": {},
   "cell_type": "markdown",
   "metadata": {},
   "source": [
    "## Pre-processing Tweets"
   ]
  },
  {
   "cell_type": "code",
   "execution_count": 31,
   "metadata": {},
   "outputs": [],
   "source": [
    "# Initiate the word segmentation tool\n",
    "load() \n",
    "\n",
    "# Define the preprocessing function \n",
    "def preprocess_tweet(tweet):\n",
    "    # conver emojis to their text representation\n",
    "    # tweet = emoji.demojize(tweet)\n",
    "\n",
    "    # Remove URLs\n",
    "    tweet = re.sub(r'http\\S+', '', tweet)\n",
    "\n",
    "    # Remove emojis\n",
    "    tweet = tweet.encode('ascii', 'ignore').decode('utf-8')\n",
    "    \n",
    "    # Remove numbers\n",
    "    tweet = re.sub(r'\\d+', ' ', tweet)\n",
    "\n",
    "    # Extract hashtags\n",
    "    hashtags = re.findall(r'#\\S+', tweet.lower())\n",
    "\n",
    "    # Remove mentions (@), hashtags (#) and '\\n'\n",
    "    tweet = re.sub(r'[@]\\S+|[#]\\S+|\\n', ' ', tweet)\n",
    "\n",
    "    # Remove emoticons or special characters\n",
    "    tweet = re.sub(r'[^a-zA-Z0-9\\s\\U0001F600-\\U0001F64F\\U0001F300-\\U0001F5FF\\U0001F680-\\U0001F6FF\\U0001F1E0-\\U0001F1FF]', ' ', tweet)\n",
    "\n",
    "    # Remove extra whitespace\n",
    "    tweet = re.sub(r'\\s+', ' ', tweet).strip()\n",
    "    \n",
    "    # Remove stopwords\n",
    "    tweet = ' '.join([word for word in tweet.split() if word not in utils.STOP]).lower()\n",
    "    '''\n",
    "    # word segmentation, e.g., \"hellothere\" -> [\"hello\", \"there\"]\n",
    "    try:\n",
    "        word_list = segment(tweet)\n",
    "        tweet = ' '.join(word_list)\n",
    "    except:\n",
    "        pass\n",
    "    '''\n",
    "    \n",
    "    return tweet, hashtags"
   ]
  },
  {
   "attachments": {},
   "cell_type": "markdown",
   "metadata": {},
   "source": [
    "The pre-processing pipeline for VADER sentiment analysis includes:\n",
    "- convert emojis to corresponding text ([Emoji for Python librariy](https://pypi.org/project/emoji/)) (it messes up with LDA)\n",
    "- remove URLs, mentions, emoticons or special characters, extra whitespace, and stopwords\n",
    "- lowercase the tweet content as well as the hashtags\n",
    "- store hashtags in a list for future use\n",
    "- word segmentation ([WordSegment library](https://pypi.org/project/wordsegment/) )\n",
    "\n",
    "Because tokenizing the text may actually disrupt some of the features that VADER relies on, such as the context in which certain words appear, I did not tokenize here, but before other analyses."
   ]
  },
  {
   "cell_type": "code",
   "execution_count": 32,
   "metadata": {},
   "outputs": [],
   "source": [
    "# Split the resulting tuple into two separate columns\n",
    "df_raw[['processed_tweet', 'hashtags']] = df_raw['Content'].apply(lambda x: pd.Series(preprocess_tweet(x)))"
   ]
  },
  {
   "cell_type": "code",
   "execution_count": 35,
   "metadata": {},
   "outputs": [
    {
     "data": {
      "text/plain": [
       "Content            Tuesday—Back and Biceps 💪🏼 \\nSome plate curls as finisher.\\n.\\n.\\n.\\n.\\n.\\n.\\n.\\n.\\n#bicep #fitness #bodybuilding #gym #biceps #muscle #fitfam #fit #tricep #girlswholift #arms #back #workout #fitspo #strong #motivation… https://t.co/Bjyeya4bpU\n",
       "processed_tweet                                                                                                                                                                                                           tuesdayback biceps some plate curls finisher\n",
       "Name: 160, dtype: object"
      ]
     },
     "execution_count": 35,
     "metadata": {},
     "output_type": "execute_result"
    }
   ],
   "source": [
    "df_raw.iloc[160][['Content', 'processed_tweet']]"
   ]
  },
  {
   "cell_type": "code",
   "execution_count": 36,
   "metadata": {},
   "outputs": [
    {
     "name": "stdout",
     "output_type": "stream",
     "text": [
      "processed_tweet    working beach never looked great\n",
      "hashtags           [#fitfam, #fitspo, #getfitnlean]\n",
      "Name: 26539, dtype: object\n",
      "processed_tweet                   best till this helped write blog post thanks creators work\n",
      "hashtags           [#workout, #fitnessphysique, #fitness, #fitnessmodels, #gymlife, #fitspo]\n",
      "Name: 14143, dtype: object\n",
      "processed_tweet                                                                                                           thank much business we honored clients like\n",
      "hashtags           [#wellness, #training, #weightwatchers, #gymlife, #cardio, #fitnessjourney, #fitspo, #slimmingworlduk, #detox, #losingweight, #sw, #ww, #ketodiet]\n",
      "Name: 20956, dtype: object\n",
      "processed_tweet                                                                                                                                                                                            baby spam\n",
      "hashtags           [#newmummy, #mummy, #mumofone, #newbaby, #baby, #babygirl, #children, #rehab, #mum, #fit, #fitspo, #fitfam, #fitlife, #fitfamily, #recovery, #fitmom, #fitmama, #fitbaby, #fitness, #fitnessgirl]\n",
      "Name: 13166, dtype: object\n",
      "processed_tweet                                                                                                                                                                                order seeds online diet with care your fitness companion\n",
      "hashtags           [#health, #fitness, #gym, #love, #healthy, #motivation, #workout, #fit, #weightloss, #fitnessmotivation, #fitspo, #fitfam, #selflove, #happiness, #weightlossjourney, #healthyfood, #life, #bodybuilding, #diet, #nutrition, #seeds]\n",
      "Name: 12719, dtype: object\n"
     ]
    }
   ],
   "source": [
    "utils.show_random_5(df_raw, ['processed_tweet', 'hashtags'])"
   ]
  },
  {
   "cell_type": "code",
   "execution_count": 37,
   "metadata": {},
   "outputs": [
    {
     "name": "stdout",
     "output_type": "stream",
     "text": [
      "Before removing tweets: (27134, 17)\n",
      "After removing tweets: (19698, 17)\n"
     ]
    }
   ],
   "source": [
    "# Remove exact duplicates based on tweet text\n",
    "print(f\"Before removing tweets: {df_raw.shape}\")\n",
    "df_raw.drop_duplicates(subset=['processed_tweet'], inplace=True)\n",
    "df_raw.reset_index(drop=True, inplace=True)\n",
    "print(f\"After removing tweets: {df_raw.shape}\")"
   ]
  },
  {
   "attachments": {},
   "cell_type": "markdown",
   "metadata": {},
   "source": [
    "About seven thousand tweets were removed from the raw dataset because of being exact duplications."
   ]
  },
  {
   "cell_type": "code",
   "execution_count": 38,
   "metadata": {},
   "outputs": [
    {
     "name": "stdout",
     "output_type": "stream",
     "text": [
      "Before removing empty-token tweets: (19698, 17)\n",
      "After removing empty-token tweets: (19697, 17)\n"
     ]
    }
   ],
   "source": [
    "# Remove empty tweets\n",
    "print(f\"Before removing empty-token tweets: {df_raw.shape}\")\n",
    "df_raw = df_raw[df_raw['processed_tweet'] != '']\n",
    "df_raw.dropna(subset=['processed_tweet'], inplace=True)\n",
    "print(f\"After removing empty-token tweets: {df_raw.shape}\")"
   ]
  },
  {
   "attachments": {},
   "cell_type": "markdown",
   "metadata": {},
   "source": [
    "1 tweet was removed from the raw dataset because of being empty."
   ]
  },
  {
   "cell_type": "code",
   "execution_count": 39,
   "metadata": {},
   "outputs": [],
   "source": [
    "# Export the pre-processed dataset\n",
    "df_raw.to_csv(data_path + '/processed.csv', index=False)"
   ]
  },
  {
   "cell_type": "code",
   "execution_count": null,
   "metadata": {},
   "outputs": [],
   "source": []
  }
 ],
 "metadata": {
  "kernelspec": {
   "display_name": "nlp",
   "language": "python",
   "name": "python3"
  },
  "language_info": {
   "codemirror_mode": {
    "name": "ipython",
    "version": 3
   },
   "file_extension": ".py",
   "mimetype": "text/x-python",
   "name": "python",
   "nbconvert_exporter": "python",
   "pygments_lexer": "ipython3",
   "version": "3.9.13"
  },
  "orig_nbformat": 4
 },
 "nbformat": 4,
 "nbformat_minor": 2
}
